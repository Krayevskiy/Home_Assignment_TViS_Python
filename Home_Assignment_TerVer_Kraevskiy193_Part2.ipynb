{
 "cells": [
  {
   "cell_type": "code",
   "execution_count": 35,
   "metadata": {},
   "outputs": [],
   "source": [
    "import sys\n",
    "import math\n",
    "import pandas as pd\n",
    "import numpy as np\n",
    "import scipy\n",
    "import matplotlib.pyplot as plt\n",
    "import seaborn\n",
    "from scipy.stats import t, chi2, f, norm, poisson, binom, uniform, multivariate_normal\n",
    "\n",
    "np.set_printoptions(suppress = True)                    "
   ]
  },
  {
   "cell_type": "markdown",
   "metadata": {},
   "source": [
    "# Задание 1."
   ]
  },
  {
   "cell_type": "code",
   "execution_count": 36,
   "metadata": {},
   "outputs": [
    {
     "data": {
      "text/plain": [
       "array([3.82593491, 0.63175491, 7.88934354, ..., 4.78352108, 7.68684341,\n",
       "       7.86668851])"
      ]
     },
     "execution_count": 36,
     "metadata": {},
     "output_type": "execute_result"
    }
   ],
   "source": [
    "n = 10000                                                \n",
    "df = 5                                                  \n",
    "x_1 = chi2.rvs(size = n,                                  \n",
    "             df = df)                                       \n",
    "x_1                      "
   ]
  },
  {
   "cell_type": "code",
   "execution_count": 37,
   "metadata": {},
   "outputs": [
    {
     "data": {
      "text/plain": [
       "array([-1.71374769,  0.62823288,  0.21852091, ..., -0.77989035,\n",
       "       -0.1768806 ,  0.2308248 ])"
      ]
     },
     "execution_count": 37,
     "metadata": {},
     "output_type": "execute_result"
    }
   ],
   "source": [
    "                                                \n",
    "df_st = 10\n",
    "y = t.rvs(size = n,                                  \n",
    "             df = df_st)\n",
    "y"
   ]
  },
  {
   "cell_type": "code",
   "execution_count": 38,
   "metadata": {},
   "outputs": [
    {
     "data": {
      "text/plain": [
       "array([ 20.94546801,  54.78599574, -13.21681433, ...,  48.88684212,\n",
       "        13.11653496, -38.39279705])"
      ]
     },
     "execution_count": 38,
     "metadata": {},
     "output_type": "execute_result"
    }
   ],
   "source": [
    "loc = 10 \n",
    "scale = 25\n",
    "z = norm.rvs(size = n, loc = loc,                                  \n",
    "             scale = scale)\n",
    "z"
   ]
  },
  {
   "cell_type": "markdown",
   "metadata": {},
   "source": [
    "# Задание 2."
   ]
  },
  {
   "cell_type": "code",
   "execution_count": 39,
   "metadata": {},
   "outputs": [
    {
     "data": {
      "text/plain": [
       "array([12.16331301, 14.18850552,  8.46117188, ..., 16.42620707,\n",
       "        9.54098489, 10.32875304])"
      ]
     },
     "execution_count": 39,
     "metadata": {},
     "output_type": "execute_result"
    }
   ],
   "source": [
    "n = 10000                                                \n",
    "df = 10                                                  \n",
    "x_chi = chi2.rvs(size = n,                                  \n",
    "             df = df)                                       \n",
    "x_chi    "
   ]
  },
  {
   "cell_type": "code",
   "execution_count": 40,
   "metadata": {},
   "outputs": [
    {
     "data": {
      "text/plain": [
       "9.936099824736209"
      ]
     },
     "execution_count": 40,
     "metadata": {},
     "output_type": "execute_result"
    }
   ],
   "source": [
    "np.mean(x_chi)"
   ]
  },
  {
   "cell_type": "code",
   "execution_count": 41,
   "metadata": {},
   "outputs": [
    {
     "data": {
      "text/plain": [
       "1665.9497816902815"
      ]
     },
     "execution_count": 41,
     "metadata": {},
     "output_type": "execute_result"
    }
   ],
   "source": [
    "np.mean(x_chi**3)"
   ]
  },
  {
   "cell_type": "code",
   "execution_count": 42,
   "metadata": {},
   "outputs": [
    {
     "data": {
      "text/plain": [
       "20.31544902474788"
      ]
     },
     "execution_count": 42,
     "metadata": {},
     "output_type": "execute_result"
    }
   ],
   "source": [
    "np.var(x_chi)"
   ]
  },
  {
   "cell_type": "code",
   "execution_count": 43,
   "metadata": {},
   "outputs": [
    {
     "data": {
      "text/plain": [
       "9.263560016568828"
      ]
     },
     "execution_count": 43,
     "metadata": {},
     "output_type": "execute_result"
    }
   ],
   "source": [
    "np.median(x_chi)"
   ]
  },
  {
   "cell_type": "code",
   "execution_count": 44,
   "metadata": {},
   "outputs": [
    {
     "data": {
      "text/plain": [
       "0.0016"
      ]
     },
     "execution_count": 44,
     "metadata": {},
     "output_type": "execute_result"
    }
   ],
   "source": [
    "np.mean(x_chi <= 1.7)"
   ]
  },
  {
   "cell_type": "code",
   "execution_count": 45,
   "metadata": {},
   "outputs": [
    {
     "data": {
      "text/plain": [
       "7.174969172291497"
      ]
     },
     "execution_count": 45,
     "metadata": {},
     "output_type": "execute_result"
    }
   ],
   "source": [
    "np.quantile(x_chi, 0.3)"
   ]
  },
  {
   "cell_type": "code",
   "execution_count": 46,
   "metadata": {},
   "outputs": [
    {
     "data": {
      "text/plain": [
       "0.49766650660957473"
      ]
     },
     "execution_count": 46,
     "metadata": {},
     "output_type": "execute_result"
    }
   ],
   "source": [
    "np.var(np.sin(x_chi))"
   ]
  },
  {
   "cell_type": "markdown",
   "metadata": {},
   "source": [
    "# Задание 3"
   ]
  },
  {
   "cell_type": "code",
   "execution_count": 47,
   "metadata": {},
   "outputs": [],
   "source": [
    "n = 10000                                                \n",
    "df = 10                                                  \n",
    "y = chi2.rvs(size = n,                                  \n",
    "             df = df) \n",
    "loc = 1\n",
    "scale = 5\n",
    "x = uniform.rvs(size = n,                                  \n",
    "             loc = 1, scale = scale) \n"
   ]
  },
  {
   "cell_type": "code",
   "execution_count": 48,
   "metadata": {},
   "outputs": [
    {
     "data": {
      "text/plain": [
       "13.494969793625685"
      ]
     },
     "execution_count": 48,
     "metadata": {},
     "output_type": "execute_result"
    }
   ],
   "source": [
    "np.mean(x+y)"
   ]
  },
  {
   "cell_type": "code",
   "execution_count": 49,
   "metadata": {},
   "outputs": [
    {
     "data": {
      "text/plain": [
       "0.991"
      ]
     },
     "execution_count": 49,
     "metadata": {},
     "output_type": "execute_result"
    }
   ],
   "source": [
    "np.mean(x-y <=2)"
   ]
  },
  {
   "cell_type": "code",
   "execution_count": 50,
   "metadata": {},
   "outputs": [
    {
     "data": {
      "text/plain": [
       "0.11159255282205863"
      ]
     },
     "execution_count": 50,
     "metadata": {},
     "output_type": "execute_result"
    }
   ],
   "source": [
    "np.var(x/y)"
   ]
  },
  {
   "cell_type": "markdown",
   "metadata": {},
   "source": [
    "# Задание 4"
   ]
  },
  {
   "cell_type": "code",
   "execution_count": 80,
   "metadata": {},
   "outputs": [
    {
     "data": {
      "text/plain": [
       "[<matplotlib.lines.Line2D at 0x179c35c9460>]"
      ]
     },
     "execution_count": 80,
     "metadata": {},
     "output_type": "execute_result"
    },
    {
     "data": {
      "image/png": "[encoded data removed]",
      "text/plain": [
       "<Figure size 432x288 with 1 Axes>"
      ]
     },
     "metadata": {
      "needs_background": "light"
     },
     "output_type": "display_data"
    }
   ],
   "source": [
    "np.random.seed(333333)\n",
    "                 \n",
    "step = 10                                               \n",
    "                                                        \n",
    "                                                        \n",
    "                                                        \n",
    "m = int(len(x) / step)                              \n",
    "u_mean = np.zeros(m)                                    \n",
    "                                                        \n",
    "for i in range(0, m):\n",
    "    u_mean[i] = np.mean(x[1:((i + 1) * step - 5)])  \n",
    "dev = abs(u_mean - np.mean(x))                                \n",
    "                                                        \n",
    "\n",
    "plt.xlabel('Sample Size / ' + str(step))\n",
    "plt.ylabel('|E(U) - mean(u)| Uniform')\n",
    "plt.ylim(ymin = 0, ymax = max(dev))\n",
    "plt.plot(dev, 'ro', markersize = 1)"
   ]
  },
  {
   "cell_type": "code",
   "execution_count": 81,
   "metadata": {},
   "outputs": [
    {
     "data": {
      "text/plain": [
       "[<matplotlib.lines.Line2D at 0x179c3619880>]"
      ]
     },
     "execution_count": 81,
     "metadata": {},
     "output_type": "execute_result"
    },
    {
     "data": {
      "image/png": "[encoded data removed]",
      "text/plain": [
       "<Figure size 432x288 with 1 Axes>"
      ]
     },
     "metadata": {
      "needs_background": "light"
     },
     "output_type": "display_data"
    }
   ],
   "source": [
    "np.random.seed(333333)\n",
    "                 \n",
    "step = 10                                               \n",
    "                                                        \n",
    "                                                        \n",
    "                                                        \n",
    "m = int(len(x) / step)                              \n",
    "u_mean = np.zeros(m)                                    \n",
    "                                                        \n",
    "for i in range(0, m):\n",
    "    u_mean[i] = np.mean(x[1:((i + 1) * step - 5)])  \n",
    "dev = abs(u_mean - np.mean(x))**2                                \n",
    "                                                        \n",
    "\n",
    "plt.xlabel('Sample Size / ' + str(step))\n",
    "plt.ylabel('|E(U) - mean(u)|^2 Uniform')\n",
    "plt.ylim(ymin = 0, ymax = max(dev))\n",
    "plt.plot(dev, 'ro', markersize = 1)"
   ]
  },
  {
   "cell_type": "code",
   "execution_count": 82,
   "metadata": {},
   "outputs": [
    {
     "data": {
      "text/plain": [
       "[<matplotlib.lines.Line2D at 0x179c3669be0>]"
      ]
     },
     "execution_count": 82,
     "metadata": {},
     "output_type": "execute_result"
    },
    {
     "data": {
      "image/png": "[encoded data removed]",
      "text/plain": [
       "<Figure size 432x288 with 1 Axes>"
      ]
     },
     "metadata": {
      "needs_background": "light"
     },
     "output_type": "display_data"
    }
   ],
   "source": [
    "np.random.seed(333333)\n",
    "                 \n",
    "step = 10                                               \n",
    "                                                        \n",
    "                                                        \n",
    "                                                        \n",
    "m = int(len(y) / step)                              \n",
    "u_mean = np.zeros(m)                                    \n",
    "                                                        \n",
    "for i in range(0, m):\n",
    "    u_mean[i] = np.mean(y[1:((i + 1) * step - 5)])  \n",
    "dev = abs(u_mean -np.mean(y))                                 \n",
    "                                                        \n",
    "\n",
    "plt.xlabel('Sample Size / ' + str(step))\n",
    "plt.ylabel('|E(U) - mean(u)| chi^2')\n",
    "plt.ylim(ymin = 0, ymax = max(dev))\n",
    "plt.plot(dev, 'ro', markersize = 1)"
   ]
  },
  {
   "cell_type": "code",
   "execution_count": 83,
   "metadata": {},
   "outputs": [
    {
     "data": {
      "text/plain": [
       "[<matplotlib.lines.Line2D at 0x179c36bbaf0>]"
      ]
     },
     "execution_count": 83,
     "metadata": {},
     "output_type": "execute_result"
    },
    {
     "data": {
      "image/png": "[encoded data removed]",
      "text/plain": [
       "<Figure size 432x288 with 1 Axes>"
      ]
     },
     "metadata": {
      "needs_background": "light"
     },
     "output_type": "display_data"
    }
   ],
   "source": [
    "np.random.seed(333333)\n",
    "                 \n",
    "step = 10                                               \n",
    "                                                        \n",
    "                                                        \n",
    "                                                        \n",
    "m = int(len(y) / step)                              \n",
    "u_mean = np.zeros(m)                                    \n",
    "                                                        \n",
    "for i in range(0, m):\n",
    "    u_mean[i] = np.mean(y[1:((i + 1) * step - 5)])  \n",
    "dev = abs(u_mean -np.mean(y))**2                                 \n",
    "                                                        \n",
    "\n",
    "plt.xlabel('Sample Size / ' + str(step))\n",
    "plt.ylabel('|E(U) - mean(u)|^2 chi^2')\n",
    "plt.ylim(ymin = 0, ymax = max(dev))\n",
    "plt.plot(dev, 'ro', markersize = 1)"
   ]
  },
  {
   "cell_type": "markdown",
   "metadata": {},
   "source": [
    "# Задание 5"
   ]
  },
  {
   "cell_type": "markdown",
   "metadata": {},
   "source": [
    "# Бернулли"
   ]
  },
  {
   "cell_type": "code",
   "execution_count": 150,
   "metadata": {},
   "outputs": [
    {
     "data": {
      "text/plain": [
       "array([1, 0, 0, 0, 1, 0, 0, 0, 0, 1, 0, 1, 1, 0, 1, 1, 0, 1, 1, 1, 0, 1,\n",
       "       0, 1, 1, 1, 0, 1, 0, 1, 1, 1, 0, 1, 0, 1, 1, 0, 0, 1, 1, 1, 0, 1,\n",
       "       1, 1, 1, 0, 1, 1, 0, 1, 0, 0, 0, 0, 1, 0, 0, 0, 1, 1, 1, 0, 1, 0,\n",
       "       0, 1, 0, 1, 1, 1, 0, 1, 1, 0, 0, 1, 0, 0, 0, 1, 0, 0, 1, 1, 0, 1,\n",
       "       0, 0, 1, 1, 1, 1, 0, 1, 1, 1, 1, 0])"
      ]
     },
     "execution_count": 150,
     "metadata": {},
     "output_type": "execute_result"
    }
   ],
   "source": [
    "p = 0.3\n",
    "a = np.random.randint(0,2, size = 100)\n",
    "a_values = []\n",
    "a"
   ]
  },
  {
   "cell_type": "code",
   "execution_count": 151,
   "metadata": {},
   "outputs": [
    {
     "data": {
      "text/plain": [
       "array([0.3, 0.7, 0.7, 0.7, 0.3, 0.7, 0.7, 0.7, 0.7, 0.3, 0.7, 0.3, 0.3,\n",
       "       0.7, 0.3, 0.3, 0.7, 0.3, 0.3, 0.3, 0.7, 0.3, 0.7, 0.3, 0.3, 0.3,\n",
       "       0.7, 0.3, 0.7, 0.3, 0.3, 0.3, 0.7, 0.3, 0.7, 0.3, 0.3, 0.7, 0.7,\n",
       "       0.3, 0.3, 0.3, 0.7, 0.3, 0.3, 0.3, 0.3, 0.7, 0.3, 0.3, 0.7, 0.3,\n",
       "       0.7, 0.7, 0.7, 0.7, 0.3, 0.7, 0.7, 0.7, 0.3, 0.3, 0.3, 0.7, 0.3,\n",
       "       0.7, 0.7, 0.3, 0.7, 0.3, 0.3, 0.3, 0.7, 0.3, 0.3, 0.7, 0.7, 0.3,\n",
       "       0.7, 0.7, 0.7, 0.3, 0.7, 0.7, 0.3, 0.3, 0.7, 0.3, 0.7, 0.7, 0.3,\n",
       "       0.3, 0.3, 0.3, 0.7, 0.3, 0.3, 0.3, 0.3, 0.7])"
      ]
     },
     "execution_count": 151,
     "metadata": {},
     "output_type": "execute_result"
    }
   ],
   "source": [
    "\n",
    "for i in range(0,len(a)):\n",
    "    if a[i] == 1:\n",
    "        a_values.append(p)\n",
    "    else:\n",
    "        a_values.append(1-p)\n",
    "    i+=1    \n",
    "np.transpose(a_values)"
   ]
  },
  {
   "cell_type": "markdown",
   "metadata": {},
   "source": [
    "# Биномиальное"
   ]
  },
  {
   "cell_type": "code",
   "execution_count": 152,
   "metadata": {},
   "outputs": [
    {
     "data": {
      "text/plain": [
       "array([2, 3, 3, 4, 3, 5, 3, 0, 4, 0, 2, 4, 2, 2, 1, 4, 1, 2, 4, 0, 0, 3,\n",
       "       3, 1, 2, 3, 2, 4, 1, 1, 1, 0, 0, 2, 5, 0, 1, 3, 5, 1, 4, 1, 2, 5,\n",
       "       3, 2, 5, 3, 0, 4, 4, 5, 4, 4, 5, 3, 1, 1, 4, 1, 0, 3, 0, 5, 0, 1,\n",
       "       5, 5, 2, 1, 1, 0, 2, 0, 0, 2, 0, 2, 4, 5, 3, 2, 3, 4, 3, 5, 1, 5,\n",
       "       0, 4, 0, 0, 2, 2, 0, 0, 0, 4, 5, 1])"
      ]
     },
     "execution_count": 152,
     "metadata": {},
     "output_type": "execute_result"
    }
   ],
   "source": [
    "p = 0.3\n",
    "n = 5\n",
    "b = np.random.randint(0,6, size = 100)\n",
    "b_values = []\n",
    "b"
   ]
  },
  {
   "cell_type": "code",
   "execution_count": 153,
   "metadata": {},
   "outputs": [
    {
     "data": {
      "text/plain": [
       "array([0.3087 , 0.1323 , 0.1323 , 0.02835, 0.1323 , 0.00243, 0.1323 ,\n",
       "       0.16807, 0.02835, 0.16807, 0.3087 , 0.02835, 0.3087 , 0.3087 ,\n",
       "       0.36015, 0.02835, 0.36015, 0.3087 , 0.02835, 0.16807, 0.16807,\n",
       "       0.1323 , 0.1323 , 0.36015, 0.3087 , 0.1323 , 0.3087 , 0.02835,\n",
       "       0.36015, 0.36015, 0.36015, 0.16807, 0.16807, 0.3087 , 0.00243,\n",
       "       0.16807, 0.36015, 0.1323 , 0.00243, 0.36015, 0.02835, 0.36015,\n",
       "       0.3087 , 0.00243, 0.1323 , 0.3087 , 0.00243, 0.1323 , 0.16807,\n",
       "       0.02835, 0.02835, 0.00243, 0.02835, 0.02835, 0.00243, 0.1323 ,\n",
       "       0.36015, 0.36015, 0.02835, 0.36015, 0.16807, 0.1323 , 0.16807,\n",
       "       0.00243, 0.16807, 0.36015, 0.00243, 0.00243, 0.3087 , 0.36015,\n",
       "       0.36015, 0.16807, 0.3087 , 0.16807, 0.16807, 0.3087 , 0.16807,\n",
       "       0.3087 , 0.02835, 0.00243, 0.1323 , 0.3087 , 0.1323 , 0.02835,\n",
       "       0.1323 , 0.00243, 0.36015, 0.00243, 0.16807, 0.02835, 0.16807,\n",
       "       0.16807, 0.3087 , 0.3087 , 0.16807, 0.16807, 0.16807, 0.02835,\n",
       "       0.00243, 0.36015])"
      ]
     },
     "execution_count": 153,
     "metadata": {},
     "output_type": "execute_result"
    }
   ],
   "source": [
    "for i in range (0,len(b)):\n",
    "    binom = scipy.special.comb(5,int(b[i]), exact = True)*p**(int(b[i]))*(1-p)**(n-int(b[i])) # comb - число сочетаний, чтобы не использовать квантиль\n",
    "    b_values.append(binom)\n",
    "    i+=1\n",
    "np.transpose(b_values)"
   ]
  },
  {
   "cell_type": "markdown",
   "metadata": {},
   "source": [
    "# Пуассон"
   ]
  },
  {
   "cell_type": "code",
   "execution_count": 172,
   "metadata": {},
   "outputs": [],
   "source": [
    "lamb = 5 \n",
    "n = 100\n",
    "pois = np.random.poisson(lamb, n)"
   ]
  },
  {
   "cell_type": "code",
   "execution_count": 173,
   "metadata": {},
   "outputs": [
    {
     "data": {
      "text/plain": [
       "array([ 6,  5,  7, 10,  0,  8,  9,  5,  6,  4,  4,  6,  4,  9,  4,  5,  2,\n",
       "        3,  5,  4,  4,  7,  6,  7,  2,  6,  5,  4,  6,  7,  6,  9,  6,  7,\n",
       "        4,  3,  2, 10,  7,  8,  6,  3,  4,  4,  3,  7,  3,  2, 11,  3,  5,\n",
       "        3,  6,  4,  8,  4,  4,  5,  4,  5,  5,  3,  5,  9,  6,  6,  2,  8,\n",
       "        4,  5,  4,  8,  4,  7,  8,  2,  4,  7,  5,  2,  6,  5,  6,  2,  8,\n",
       "        4,  2,  9,  6,  9,  3,  3,  5,  6,  3,  7,  6,  6,  4, 10])"
      ]
     },
     "execution_count": 173,
     "metadata": {},
     "output_type": "execute_result"
    }
   ],
   "source": [
    "pois"
   ]
  },
  {
   "cell_type": "code",
   "execution_count": 180,
   "metadata": {},
   "outputs": [
    {
     "data": {
      "text/plain": [
       "array([0.14622281, 0.17546737, 0.10444486, 0.01813279, 0.00673795,\n",
       "       0.06527804, 0.03626558, 0.17546737, 0.14622281, 0.17546737,\n",
       "       0.17546737, 0.14622281, 0.17546737, 0.03626558, 0.17546737,\n",
       "       0.17546737, 0.08422434, 0.1403739 , 0.17546737, 0.17546737,\n",
       "       0.17546737, 0.10444486, 0.14622281, 0.10444486, 0.08422434,\n",
       "       0.14622281, 0.17546737, 0.17546737, 0.14622281, 0.10444486,\n",
       "       0.14622281, 0.03626558, 0.14622281, 0.10444486, 0.17546737,\n",
       "       0.1403739 , 0.08422434, 0.01813279, 0.10444486, 0.06527804,\n",
       "       0.14622281, 0.1403739 , 0.17546737, 0.17546737, 0.1403739 ,\n",
       "       0.10444486, 0.1403739 , 0.08422434, 0.00824218, 0.1403739 ,\n",
       "       0.17546737, 0.1403739 , 0.14622281, 0.17546737, 0.06527804,\n",
       "       0.17546737, 0.17546737, 0.17546737, 0.17546737, 0.17546737,\n",
       "       0.17546737, 0.1403739 , 0.17546737, 0.03626558, 0.14622281,\n",
       "       0.14622281, 0.08422434, 0.06527804, 0.17546737, 0.17546737,\n",
       "       0.17546737, 0.06527804, 0.17546737, 0.10444486, 0.06527804,\n",
       "       0.08422434, 0.17546737, 0.10444486, 0.17546737, 0.08422434,\n",
       "       0.14622281, 0.17546737, 0.14622281, 0.08422434, 0.06527804,\n",
       "       0.17546737, 0.08422434, 0.03626558, 0.14622281, 0.03626558,\n",
       "       0.1403739 , 0.1403739 , 0.17546737, 0.14622281, 0.1403739 ,\n",
       "       0.10444486, 0.14622281, 0.14622281, 0.17546737, 0.01813279])"
      ]
     },
     "execution_count": 180,
     "metadata": {},
     "output_type": "execute_result"
    }
   ],
   "source": [
    "pois_values = []\n",
    "for i in range (0,len(pois)):\n",
    "    poisson = (lamb**(int(pois[i]))*math.exp(-lamb))/(math.factorial(int(pois[i])))\n",
    "    pois_values.append(poisson)\n",
    "    i+=1\n",
    "np.transpose(pois_values)"
   ]
  },
  {
   "cell_type": "markdown",
   "metadata": {},
   "source": [
    "# Геометрическое"
   ]
  },
  {
   "cell_type": "code",
   "execution_count": 184,
   "metadata": {},
   "outputs": [
    {
     "data": {
      "text/plain": [
       "array([3, 2, 8, 3, 9, 6, 5, 9, 2, 3, 9, 8, 3, 3, 3, 7, 1, 6, 9, 2, 2, 7,\n",
       "       8, 8, 5, 9, 2, 0, 9, 3, 7, 1, 8, 6, 9, 0, 4, 7, 9, 5, 0, 5, 8, 6,\n",
       "       4, 1, 8, 2, 6, 8, 7, 0, 8, 5, 1, 1, 7, 9, 7, 4, 5, 6, 4, 9, 5, 9,\n",
       "       7, 5, 6, 9, 4, 7, 8, 7, 6, 3, 8, 1, 9, 4, 7, 3, 8, 0, 6, 1, 2, 8,\n",
       "       3, 2, 6, 1, 8, 6, 3, 1, 5, 4, 9, 7])"
      ]
     },
     "execution_count": 184,
     "metadata": {},
     "output_type": "execute_result"
    }
   ],
   "source": [
    "p = 0.3\n",
    "q = 1-p\n",
    "geom = np.random.randint(0,10, size = 100)\n",
    "geom"
   ]
  },
  {
   "cell_type": "code",
   "execution_count": 187,
   "metadata": {},
   "outputs": [
    {
     "data": {
      "text/plain": [
       "array([0.1029    , 0.147     , 0.0172944 , 0.1029    , 0.01210608,\n",
       "       0.0352947 , 0.050421  , 0.01210608, 0.147     , 0.1029    ,\n",
       "       0.01210608, 0.0172944 , 0.1029    , 0.1029    , 0.1029    ,\n",
       "       0.02470629, 0.21      , 0.0352947 , 0.01210608, 0.147     ,\n",
       "       0.147     , 0.02470629, 0.0172944 , 0.0172944 , 0.050421  ,\n",
       "       0.01210608, 0.147     , 0.3       , 0.01210608, 0.1029    ,\n",
       "       0.02470629, 0.21      , 0.0172944 , 0.0352947 , 0.01210608,\n",
       "       0.3       , 0.07203   , 0.02470629, 0.01210608, 0.050421  ,\n",
       "       0.3       , 0.050421  , 0.0172944 , 0.0352947 , 0.07203   ,\n",
       "       0.21      , 0.0172944 , 0.147     , 0.0352947 , 0.0172944 ,\n",
       "       0.02470629, 0.3       , 0.0172944 , 0.050421  , 0.21      ,\n",
       "       0.21      , 0.02470629, 0.01210608, 0.02470629, 0.07203   ,\n",
       "       0.050421  , 0.0352947 , 0.07203   , 0.01210608, 0.050421  ,\n",
       "       0.01210608, 0.02470629, 0.050421  , 0.0352947 , 0.01210608,\n",
       "       0.07203   , 0.02470629, 0.0172944 , 0.02470629, 0.0352947 ,\n",
       "       0.1029    , 0.0172944 , 0.21      , 0.01210608, 0.07203   ,\n",
       "       0.02470629, 0.1029    , 0.0172944 , 0.3       , 0.0352947 ,\n",
       "       0.21      , 0.147     , 0.0172944 , 0.1029    , 0.147     ,\n",
       "       0.0352947 , 0.21      , 0.0172944 , 0.0352947 , 0.1029    ,\n",
       "       0.21      , 0.050421  , 0.07203   , 0.01210608, 0.02470629])"
      ]
     },
     "execution_count": 187,
     "metadata": {},
     "output_type": "execute_result"
    }
   ],
   "source": [
    "geom_values = []\n",
    "for i in range(0, len(geom)):\n",
    "    g = q**(int(geom[i]))*p\n",
    "    geom_values.append(g)\n",
    "    i+=1\n",
    "np.transpose(geom_values)"
   ]
  },
  {
   "cell_type": "code",
   "execution_count": null,
   "metadata": {},
   "outputs": [],
   "source": []
  }
 ],
 "metadata": {
  "kernelspec": {
   "display_name": "Python 3",
   "language": "python",
   "name": "python3"
  },
  "language_info": {
   "codemirror_mode": {
    "name": "ipython",
    "version": 3
   },
   "file_extension": ".py",
   "mimetype": "text/x-python",
   "name": "python",
   "nbconvert_exporter": "python",
   "pygments_lexer": "ipython3",
   "version": "3.8.3"
  }
 },
 "nbformat": 4,
 "nbformat_minor": 2
}
