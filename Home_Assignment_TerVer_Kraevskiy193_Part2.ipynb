{
 "cells": [
  {
   "cell_type": "code",
   "execution_count": 244,
   "metadata": {},
   "outputs": [],
   "source": [
    "import sys\n",
    "import math\n",
    "import pandas as pd\n",
    "import numpy as np\n",
    "import scipy\n",
    "import matplotlib.pyplot as plt\n",
    "import seaborn\n",
    "from scipy.stats import t, chi2, f, norm, poisson, binom, uniform, multivariate_normal\n",
    "\n",
    "np.set_printoptions(suppress = True)                    "
   ]
  },
  {
   "cell_type": "markdown",
   "metadata": {},
   "source": [
    "# Урок 3. Генерация выборок из распределения"
   ]
  },
  {
   "cell_type": "markdown",
   "metadata": {},
   "source": [
    "# Задание 1."
   ]
  },
  {
   "cell_type": "code",
   "execution_count": 277,
   "metadata": {},
   "outputs": [
    {
     "data": {
      "text/plain": [
       "array([3.72722063, 1.05776362, 7.23662156, ..., 5.97217074, 2.49845917,\n",
       "       3.51940292])"
      ]
     },
     "execution_count": 277,
     "metadata": {},
     "output_type": "execute_result"
    }
   ],
   "source": [
    "n = 10000                                                \n",
    "df = 5                                                  \n",
    "x_1 = chi2.rvs(size = n,                                  \n",
    "             df = df)                                       \n",
    "x_1                      "
   ]
  },
  {
   "cell_type": "code",
   "execution_count": 278,
   "metadata": {},
   "outputs": [
    {
     "data": {
      "text/plain": [
       "array([ 0.72543461, -1.3181829 , -2.37768109, ...,  0.48134733,\n",
       "       -2.60217912, -2.40389392])"
      ]
     },
     "execution_count": 278,
     "metadata": {},
     "output_type": "execute_result"
    }
   ],
   "source": [
    "                                                \n",
    "df_st = 10\n",
    "y = t.rvs(size = n,                                  \n",
    "             df = df_st)\n",
    "y"
   ]
  },
  {
   "cell_type": "code",
   "execution_count": 279,
   "metadata": {},
   "outputs": [
    {
     "data": {
      "text/plain": [
       "array([ 11.46016042, -37.24512604,  29.87543592, ...,  57.5668922 ,\n",
       "         2.27722899,  -3.48864954])"
      ]
     },
     "execution_count": 279,
     "metadata": {},
     "output_type": "execute_result"
    }
   ],
   "source": [
    "loc = 10 \n",
    "scale = 25\n",
    "z = norm.rvs(size = n, loc = loc,                                  \n",
    "             scale = scale)\n",
    "z"
   ]
  },
  {
   "cell_type": "markdown",
   "metadata": {},
   "source": [
    "# Задание 2."
   ]
  },
  {
   "cell_type": "code",
   "execution_count": 280,
   "metadata": {},
   "outputs": [
    {
     "data": {
      "text/plain": [
       "array([ 3.72164008, 12.07448204,  8.42348635, ...,  5.89226938,\n",
       "       15.07537681,  5.97472244])"
      ]
     },
     "execution_count": 280,
     "metadata": {},
     "output_type": "execute_result"
    }
   ],
   "source": [
    "n = 10000                                                \n",
    "df = 10                                                  \n",
    "x_chi = chi2.rvs(size = n,                                  \n",
    "             df = df)                                       \n",
    "x_chi    "
   ]
  },
  {
   "cell_type": "code",
   "execution_count": 281,
   "metadata": {},
   "outputs": [
    {
     "data": {
      "text/plain": [
       "10.013277185001328"
      ]
     },
     "execution_count": 281,
     "metadata": {},
     "output_type": "execute_result"
    }
   ],
   "source": [
    "np.mean(x_chi)"
   ]
  },
  {
   "cell_type": "code",
   "execution_count": 282,
   "metadata": {},
   "outputs": [
    {
     "data": {
      "text/plain": [
       "1709.833915709746"
      ]
     },
     "execution_count": 282,
     "metadata": {},
     "output_type": "execute_result"
    }
   ],
   "source": [
    "np.mean(x_chi**3)"
   ]
  },
  {
   "cell_type": "code",
   "execution_count": 283,
   "metadata": {},
   "outputs": [
    {
     "data": {
      "text/plain": [
       "20.655690061719778"
      ]
     },
     "execution_count": 283,
     "metadata": {},
     "output_type": "execute_result"
    }
   ],
   "source": [
    "np.var(x_chi)"
   ]
  },
  {
   "cell_type": "code",
   "execution_count": 284,
   "metadata": {},
   "outputs": [
    {
     "data": {
      "text/plain": [
       "9.324322879740194"
      ]
     },
     "execution_count": 284,
     "metadata": {},
     "output_type": "execute_result"
    }
   ],
   "source": [
    "np.median(x_chi)"
   ]
  },
  {
   "cell_type": "code",
   "execution_count": 285,
   "metadata": {},
   "outputs": [
    {
     "data": {
      "text/plain": [
       "0.0017"
      ]
     },
     "execution_count": 285,
     "metadata": {},
     "output_type": "execute_result"
    }
   ],
   "source": [
    "np.mean(x_chi <= 1.7)"
   ]
  },
  {
   "cell_type": "code",
   "execution_count": 286,
   "metadata": {},
   "outputs": [
    {
     "data": {
      "text/plain": [
       "7.219039206745585"
      ]
     },
     "execution_count": 286,
     "metadata": {},
     "output_type": "execute_result"
    }
   ],
   "source": [
    "np.quantile(x_chi, 0.3)"
   ]
  },
  {
   "cell_type": "code",
   "execution_count": 287,
   "metadata": {},
   "outputs": [
    {
     "data": {
      "text/plain": [
       "0.498639129855441"
      ]
     },
     "execution_count": 287,
     "metadata": {},
     "output_type": "execute_result"
    }
   ],
   "source": [
    "np.var(np.sin(x_chi))"
   ]
  },
  {
   "cell_type": "markdown",
   "metadata": {},
   "source": [
    "# Задание 3"
   ]
  },
  {
   "cell_type": "code",
   "execution_count": 288,
   "metadata": {},
   "outputs": [],
   "source": [
    "n = 10000                                                \n",
    "df = 10                                                  \n",
    "y = chi2.rvs(size = n,                                  \n",
    "             df = df) \n",
    "loc = 1\n",
    "scale = 5\n",
    "x = uniform.rvs(size = n,                                  \n",
    "             loc = 1, scale = scale) \n"
   ]
  },
  {
   "cell_type": "code",
   "execution_count": 289,
   "metadata": {},
   "outputs": [
    {
     "data": {
      "text/plain": [
       "13.600524573425785"
      ]
     },
     "execution_count": 289,
     "metadata": {},
     "output_type": "execute_result"
    }
   ],
   "source": [
    "np.mean(x+y)"
   ]
  },
  {
   "cell_type": "code",
   "execution_count": 290,
   "metadata": {},
   "outputs": [
    {
     "data": {
      "text/plain": [
       "0.9907"
      ]
     },
     "execution_count": 290,
     "metadata": {},
     "output_type": "execute_result"
    }
   ],
   "source": [
    "np.mean(x-y <=2)"
   ]
  },
  {
   "cell_type": "code",
   "execution_count": 291,
   "metadata": {},
   "outputs": [
    {
     "data": {
      "text/plain": [
       "0.1070267491668632"
      ]
     },
     "execution_count": 291,
     "metadata": {},
     "output_type": "execute_result"
    }
   ],
   "source": [
    "np.var(x/y)"
   ]
  },
  {
   "cell_type": "markdown",
   "metadata": {},
   "source": [
    "# Задание 4"
   ]
  },
  {
   "cell_type": "code",
   "execution_count": 292,
   "metadata": {},
   "outputs": [
    {
     "data": {
      "text/plain": [
       "[<matplotlib.lines.Line2D at 0x179c659f6d0>]"
      ]
     },
     "execution_count": 292,
     "metadata": {},
     "output_type": "execute_result"
    },
    {
     "data": {
      "image/png": "[encoded data removed]",
      "text/plain": [
       "<Figure size 432x288 with 1 Axes>"
      ]
     },
     "metadata": {
      "needs_background": "light"
     },
     "output_type": "display_data"
    }
   ],
   "source": [
    "np.random.seed(333333)\n",
    "                 \n",
    "step = 10                                               \n",
    "                                                        \n",
    "                                                        \n",
    "                                                        \n",
    "m = int(len(x) / step)                              \n",
    "u_mean = np.zeros(m)                                    \n",
    "                                                        \n",
    "for i in range(0, m):\n",
    "    u_mean[i] = np.mean(x[1:((i + 1) * step - 5)])  \n",
    "dev = abs(u_mean - np.mean(x))                                \n",
    "                                                        \n",
    "\n",
    "plt.xlabel('Sample Size / ' + str(step))\n",
    "plt.ylabel('|E(U) - mean(u)| Uniform')\n",
    "plt.ylim(ymin = 0, ymax = max(dev))\n",
    "plt.plot(dev, 'ro', markersize = 1)"
   ]
  },
  {
   "cell_type": "code",
   "execution_count": 293,
   "metadata": {},
   "outputs": [
    {
     "data": {
      "text/plain": [
       "[<matplotlib.lines.Line2D at 0x179c65edf40>]"
      ]
     },
     "execution_count": 293,
     "metadata": {},
     "output_type": "execute_result"
    },
    {
     "data": {
      "image/png": "[encoded data removed]",
      "text/plain": [
       "<Figure size 432x288 with 1 Axes>"
      ]
     },
     "metadata": {
      "needs_background": "light"
     },
     "output_type": "display_data"
    }
   ],
   "source": [
    "np.random.seed(333333)\n",
    "                 \n",
    "step = 10                                               \n",
    "                                                        \n",
    "                                                        \n",
    "                                                        \n",
    "m = int(len(x) / step)                              \n",
    "u_mean = np.zeros(m)                                    \n",
    "                                                        \n",
    "for i in range(0, m):\n",
    "    u_mean[i] = np.mean(x[1:((i + 1) * step - 5)])  \n",
    "dev = abs(u_mean - np.mean(x))**2                                \n",
    "                                                        \n",
    "\n",
    "plt.xlabel('Sample Size / ' + str(step))\n",
    "plt.ylabel('|E(U) - mean(u)|^2 Uniform')\n",
    "plt.ylim(ymin = 0, ymax = max(dev))\n",
    "plt.plot(dev, 'ro', markersize = 1)"
   ]
  },
  {
   "cell_type": "code",
   "execution_count": 294,
   "metadata": {},
   "outputs": [
    {
     "data": {
      "text/plain": [
       "[<matplotlib.lines.Line2D at 0x179c6648340>]"
      ]
     },
     "execution_count": 294,
     "metadata": {},
     "output_type": "execute_result"
    },
    {
     "data": {
      "image/png": "[encoded data removed]",
      "text/plain": [
       "<Figure size 432x288 with 1 Axes>"
      ]
     },
     "metadata": {
      "needs_background": "light"
     },
     "output_type": "display_data"
    }
   ],
   "source": [
    "np.random.seed(333333)\n",
    "                 \n",
    "step = 10                                               \n",
    "                                                        \n",
    "                                                        \n",
    "                                                        \n",
    "m = int(len(y) / step)                              \n",
    "u_mean = np.zeros(m)                                    \n",
    "                                                        \n",
    "for i in range(0, m):\n",
    "    u_mean[i] = np.mean(y[1:((i + 1) * step - 5)])  \n",
    "dev = abs(u_mean -np.mean(y))                                 \n",
    "                                                        \n",
    "\n",
    "plt.xlabel('Sample Size / ' + str(step))\n",
    "plt.ylabel('|E(U) - mean(u)| chi^2')\n",
    "plt.ylim(ymin = 0, ymax = max(dev))\n",
    "plt.plot(dev, 'ro', markersize = 1)"
   ]
  },
  {
   "cell_type": "code",
   "execution_count": 295,
   "metadata": {},
   "outputs": [
    {
     "data": {
      "text/plain": [
       "[<matplotlib.lines.Line2D at 0x179c669c7f0>]"
      ]
     },
     "execution_count": 295,
     "metadata": {},
     "output_type": "execute_result"
    },
    {
     "data": {
      "image/png": "[encoded data removed]",
      "text/plain": [
       "<Figure size 432x288 with 1 Axes>"
      ]
     },
     "metadata": {
      "needs_background": "light"
     },
     "output_type": "display_data"
    }
   ],
   "source": [
    "np.random.seed(333333)\n",
    "                 \n",
    "step = 10                                               \n",
    "                                                        \n",
    "                                                        \n",
    "                                                        \n",
    "m = int(len(y) / step)                              \n",
    "u_mean = np.zeros(m)                                    \n",
    "                                                        \n",
    "for i in range(0, m):\n",
    "    u_mean[i] = np.mean(y[1:((i + 1) * step - 5)])  \n",
    "dev = abs(u_mean -np.mean(y))**2                                 \n",
    "                                                        \n",
    "\n",
    "plt.xlabel('Sample Size / ' + str(step))\n",
    "plt.ylabel('|E(U) - mean(u)|^2 chi^2')\n",
    "plt.ylim(ymin = 0, ymax = max(dev))\n",
    "plt.plot(dev, 'ro', markersize = 1)"
   ]
  },
  {
   "cell_type": "markdown",
   "metadata": {},
   "source": [
    "# Задание 5"
   ]
  },
  {
   "cell_type": "markdown",
   "metadata": {},
   "source": [
    "# Бернулли"
   ]
  },
  {
   "cell_type": "code",
   "execution_count": 296,
   "metadata": {},
   "outputs": [
    {
     "data": {
      "text/plain": [
       "array([0, 1, 0, 0, 1, 1, 1, 0, 1, 1, 1, 0, 0, 1, 0, 0, 0, 0, 1, 1, 1, 0,\n",
       "       1, 1, 1, 0, 0, 1, 1, 1, 1, 0, 0, 1, 1, 0, 0, 0, 0, 0, 0, 0, 1, 0,\n",
       "       1, 0, 1, 0, 1, 1, 1, 0, 1, 0, 0, 1, 1, 0, 0, 0, 1, 1, 0, 1, 0, 0,\n",
       "       1, 1, 1, 1, 1, 0, 1, 0, 1, 1, 1, 1, 1, 1, 0, 0, 0, 1, 0, 1, 1, 1,\n",
       "       1, 0, 1, 1, 0, 1, 1, 0, 0, 0, 1, 1, 1, 0, 1, 1, 0, 0, 0, 0, 1, 1,\n",
       "       1, 0, 1, 1, 0, 0, 0, 0, 0, 0, 1, 0, 1, 1, 1, 1, 0, 0, 1, 1, 1, 0,\n",
       "       0, 0, 1, 1, 1, 1, 0, 1, 1, 1, 1, 0, 0, 0, 1, 1, 0, 0, 1, 0, 1, 0,\n",
       "       0, 0, 1, 0, 0, 1, 0, 0, 0, 1, 1, 0, 1, 1, 1, 1, 0, 1, 1, 1, 1, 0,\n",
       "       1, 0, 1, 0, 0, 1, 0, 0, 0, 0, 1, 1, 0, 1, 0, 1, 0, 1, 0, 1, 1, 1,\n",
       "       1, 1, 0, 0, 0, 0, 1, 0, 1, 1, 0, 1, 1, 0, 1, 1, 0, 0, 1, 1, 1, 0,\n",
       "       1, 1, 0, 0, 0, 0, 1, 1, 1, 1, 1, 0, 0, 1, 1, 1, 1, 0, 0, 1, 0, 1,\n",
       "       1, 0, 1, 0, 0, 1, 1, 1, 0, 1, 1, 1, 0, 0, 1, 0, 1, 1, 0, 0, 0, 0,\n",
       "       0, 1, 1, 1, 1, 1, 1, 0, 0, 1, 1, 1, 1, 1, 0, 0, 1, 0, 1, 1, 0, 1,\n",
       "       1, 1, 1, 1, 0, 1, 1, 0, 0, 1, 0, 0, 1, 0, 1, 1, 0, 0, 0, 1, 0, 0,\n",
       "       0, 1, 1, 1, 0, 1, 0, 1, 1, 0, 0, 0, 0, 0, 0, 1, 1, 1, 1, 0, 0, 0,\n",
       "       0, 0, 1, 1, 1, 1, 0, 0, 1, 0, 1, 1, 0, 0, 1, 0, 1, 1, 1, 1, 1, 1,\n",
       "       0, 0, 0, 0, 1, 0, 0, 1, 1, 1, 0, 0, 0, 1, 1, 1, 0, 0, 1, 1, 1, 0,\n",
       "       0, 1, 1, 1, 1, 0, 1, 1, 0, 1, 0, 0, 0, 0, 0, 1, 0, 1, 0, 0, 1, 1,\n",
       "       1, 0, 1, 1, 0, 0, 0, 1, 1, 1, 0, 1, 1, 0, 0, 0, 1, 0, 1, 1, 1, 1,\n",
       "       1, 0, 1, 0, 1, 1, 0, 1, 1, 1, 1, 0, 1, 0, 1, 0, 0, 0, 0, 1, 1, 0,\n",
       "       0, 0, 0, 0, 0, 0, 0, 0, 0, 1, 0, 1, 0, 0, 1, 1, 0, 1, 0, 1, 1, 1,\n",
       "       1, 1, 1, 0, 0, 1, 0, 1, 0, 0, 0, 1, 0, 1, 1, 0, 1, 1, 0, 0, 1, 0,\n",
       "       1, 1, 0, 0, 0, 0, 0, 0, 0, 1, 0, 1, 0, 0, 0, 0, 0, 0, 1, 0, 0, 1,\n",
       "       0, 1, 0, 0, 1, 1, 0, 0, 0, 1, 0, 0, 1, 1, 0, 0, 1, 0, 0, 1, 0, 1,\n",
       "       1, 0, 0, 0, 1, 0, 0, 0, 1, 0, 1, 1, 0, 1, 1, 1, 0, 1, 1, 0, 0, 0,\n",
       "       0, 0, 0, 1, 0, 0, 0, 1, 0, 1, 1, 1, 1, 1, 0, 1, 1, 1, 1, 0, 0, 1,\n",
       "       0, 0, 1, 1, 1, 0, 0, 1, 1, 1, 1, 1, 1, 1, 1, 0, 1, 1, 1, 0, 1, 1,\n",
       "       0, 1, 0, 1, 0, 1, 0, 1, 0, 1, 1, 0, 1, 1, 1, 1, 0, 1, 1, 1, 0, 1,\n",
       "       0, 0, 0, 1, 0, 1, 0, 1, 1, 1, 1, 1, 0, 0, 1, 0, 1, 0, 0, 0, 1, 1,\n",
       "       0, 0, 1, 0, 0, 1, 0, 0, 1, 1, 1, 0, 1, 1, 1, 0, 1, 0, 0, 1, 1, 0,\n",
       "       0, 1, 0, 0, 1, 0, 0, 1, 0, 0, 1, 1, 1, 0, 1, 1, 0, 1, 1, 1, 0, 1,\n",
       "       1, 1, 1, 1, 0, 0, 0, 0, 0, 1, 1, 0, 1, 0, 0, 0, 1, 0, 0, 0, 1, 1,\n",
       "       0, 1, 0, 0, 1, 0, 0, 0, 0, 1, 1, 0, 0, 1, 0, 1, 1, 0, 0, 1, 1, 0,\n",
       "       1, 1, 0, 0, 0, 1, 1, 1, 0, 0, 0, 1, 1, 0, 0, 1, 1, 1, 1, 1, 1, 0,\n",
       "       0, 1, 0, 1, 1, 1, 1, 0, 1, 0, 1, 0, 0, 0, 0, 0, 1, 1, 0, 1, 1, 0,\n",
       "       1, 0, 1, 1, 0, 0, 0, 0, 1, 1, 0, 0, 0, 0, 1, 1, 1, 1, 1, 1, 0, 0,\n",
       "       1, 1, 1, 0, 1, 1, 1, 1, 0, 0, 0, 1, 0, 1, 1, 0, 1, 1, 1, 1, 1, 1,\n",
       "       0, 1, 0, 1, 1, 0, 0, 0, 1, 0, 0, 1, 0, 0, 1, 1, 0, 1, 1, 1, 1, 0,\n",
       "       0, 1, 1, 0, 0, 0, 1, 0, 0, 0, 0, 1, 0, 0, 1, 1, 0, 1, 0, 1, 0, 0,\n",
       "       1, 1, 0, 1, 1, 0, 1, 0, 1, 1, 0, 1, 0, 1, 0, 0, 0, 1, 0, 1, 1, 0,\n",
       "       0, 1, 1, 0, 1, 0, 0, 0, 1, 0, 1, 1, 1, 0, 0, 1, 1, 0, 0, 0, 0, 0,\n",
       "       0, 1, 0, 0, 1, 1, 1, 0, 1, 1, 0, 1, 0, 0, 0, 1, 0, 0, 0, 1, 1, 0,\n",
       "       0, 1, 0, 1, 0, 1, 1, 1, 1, 1, 1, 0, 0, 0, 0, 1, 0, 1, 1, 0, 0, 0,\n",
       "       1, 0, 0, 1, 0, 0, 0, 0, 1, 1, 1, 0, 1, 1, 0, 0, 0, 1, 1, 0, 0, 0,\n",
       "       1, 1, 1, 0, 1, 1, 1, 1, 0, 0, 0, 0, 0, 0, 1, 1, 0, 0, 0, 1, 1, 1,\n",
       "       1, 1, 1, 0, 0, 1, 1, 1, 1, 0])"
      ]
     },
     "execution_count": 296,
     "metadata": {},
     "output_type": "execute_result"
    }
   ],
   "source": [
    "p = 0.3\n",
    "a = np.random.randint(0,2, size = 1000)\n",
    "a_values = []\n",
    "a"
   ]
  },
  {
   "cell_type": "code",
   "execution_count": 297,
   "metadata": {},
   "outputs": [
    {
     "data": {
      "text/plain": [
       "array([0.7, 0.3, 0.7, 0.7, 0.3, 0.3, 0.3, 0.7, 0.3, 0.3, 0.3, 0.7, 0.7,\n",
       "       0.3, 0.7, 0.7, 0.7, 0.7, 0.3, 0.3, 0.3, 0.7, 0.3, 0.3, 0.3, 0.7,\n",
       "       0.7, 0.3, 0.3, 0.3, 0.3, 0.7, 0.7, 0.3, 0.3, 0.7, 0.7, 0.7, 0.7,\n",
       "       0.7, 0.7, 0.7, 0.3, 0.7, 0.3, 0.7, 0.3, 0.7, 0.3, 0.3, 0.3, 0.7,\n",
       "       0.3, 0.7, 0.7, 0.3, 0.3, 0.7, 0.7, 0.7, 0.3, 0.3, 0.7, 0.3, 0.7,\n",
       "       0.7, 0.3, 0.3, 0.3, 0.3, 0.3, 0.7, 0.3, 0.7, 0.3, 0.3, 0.3, 0.3,\n",
       "       0.3, 0.3, 0.7, 0.7, 0.7, 0.3, 0.7, 0.3, 0.3, 0.3, 0.3, 0.7, 0.3,\n",
       "       0.3, 0.7, 0.3, 0.3, 0.7, 0.7, 0.7, 0.3, 0.3, 0.3, 0.7, 0.3, 0.3,\n",
       "       0.7, 0.7, 0.7, 0.7, 0.3, 0.3, 0.3, 0.7, 0.3, 0.3, 0.7, 0.7, 0.7,\n",
       "       0.7, 0.7, 0.7, 0.3, 0.7, 0.3, 0.3, 0.3, 0.3, 0.7, 0.7, 0.3, 0.3,\n",
       "       0.3, 0.7, 0.7, 0.7, 0.3, 0.3, 0.3, 0.3, 0.7, 0.3, 0.3, 0.3, 0.3,\n",
       "       0.7, 0.7, 0.7, 0.3, 0.3, 0.7, 0.7, 0.3, 0.7, 0.3, 0.7, 0.7, 0.7,\n",
       "       0.3, 0.7, 0.7, 0.3, 0.7, 0.7, 0.7, 0.3, 0.3, 0.7, 0.3, 0.3, 0.3,\n",
       "       0.3, 0.7, 0.3, 0.3, 0.3, 0.3, 0.7, 0.3, 0.7, 0.3, 0.7, 0.7, 0.3,\n",
       "       0.7, 0.7, 0.7, 0.7, 0.3, 0.3, 0.7, 0.3, 0.7, 0.3, 0.7, 0.3, 0.7,\n",
       "       0.3, 0.3, 0.3, 0.3, 0.3, 0.7, 0.7, 0.7, 0.7, 0.3, 0.7, 0.3, 0.3,\n",
       "       0.7, 0.3, 0.3, 0.7, 0.3, 0.3, 0.7, 0.7, 0.3, 0.3, 0.3, 0.7, 0.3,\n",
       "       0.3, 0.7, 0.7, 0.7, 0.7, 0.3, 0.3, 0.3, 0.3, 0.3, 0.7, 0.7, 0.3,\n",
       "       0.3, 0.3, 0.3, 0.7, 0.7, 0.3, 0.7, 0.3, 0.3, 0.7, 0.3, 0.7, 0.7,\n",
       "       0.3, 0.3, 0.3, 0.7, 0.3, 0.3, 0.3, 0.7, 0.7, 0.3, 0.7, 0.3, 0.3,\n",
       "       0.7, 0.7, 0.7, 0.7, 0.7, 0.3, 0.3, 0.3, 0.3, 0.3, 0.3, 0.7, 0.7,\n",
       "       0.3, 0.3, 0.3, 0.3, 0.3, 0.7, 0.7, 0.3, 0.7, 0.3, 0.3, 0.7, 0.3,\n",
       "       0.3, 0.3, 0.3, 0.3, 0.7, 0.3, 0.3, 0.7, 0.7, 0.3, 0.7, 0.7, 0.3,\n",
       "       0.7, 0.3, 0.3, 0.7, 0.7, 0.7, 0.3, 0.7, 0.7, 0.7, 0.3, 0.3, 0.3,\n",
       "       0.7, 0.3, 0.7, 0.3, 0.3, 0.7, 0.7, 0.7, 0.7, 0.7, 0.7, 0.3, 0.3,\n",
       "       0.3, 0.3, 0.7, 0.7, 0.7, 0.7, 0.7, 0.3, 0.3, 0.3, 0.3, 0.7, 0.7,\n",
       "       0.3, 0.7, 0.3, 0.3, 0.7, 0.7, 0.3, 0.7, 0.3, 0.3, 0.3, 0.3, 0.3,\n",
       "       0.3, 0.7, 0.7, 0.7, 0.7, 0.3, 0.7, 0.7, 0.3, 0.3, 0.3, 0.7, 0.7,\n",
       "       0.7, 0.3, 0.3, 0.3, 0.7, 0.7, 0.3, 0.3, 0.3, 0.7, 0.7, 0.3, 0.3,\n",
       "       0.3, 0.3, 0.7, 0.3, 0.3, 0.7, 0.3, 0.7, 0.7, 0.7, 0.7, 0.7, 0.3,\n",
       "       0.7, 0.3, 0.7, 0.7, 0.3, 0.3, 0.3, 0.7, 0.3, 0.3, 0.7, 0.7, 0.7,\n",
       "       0.3, 0.3, 0.3, 0.7, 0.3, 0.3, 0.7, 0.7, 0.7, 0.3, 0.7, 0.3, 0.3,\n",
       "       0.3, 0.3, 0.3, 0.7, 0.3, 0.7, 0.3, 0.3, 0.7, 0.3, 0.3, 0.3, 0.3,\n",
       "       0.7, 0.3, 0.7, 0.3, 0.7, 0.7, 0.7, 0.7, 0.3, 0.3, 0.7, 0.7, 0.7,\n",
       "       0.7, 0.7, 0.7, 0.7, 0.7, 0.7, 0.7, 0.3, 0.7, 0.3, 0.7, 0.7, 0.3,\n",
       "       0.3, 0.7, 0.3, 0.7, 0.3, 0.3, 0.3, 0.3, 0.3, 0.3, 0.7, 0.7, 0.3,\n",
       "       0.7, 0.3, 0.7, 0.7, 0.7, 0.3, 0.7, 0.3, 0.3, 0.7, 0.3, 0.3, 0.7,\n",
       "       0.7, 0.3, 0.7, 0.3, 0.3, 0.7, 0.7, 0.7, 0.7, 0.7, 0.7, 0.7, 0.3,\n",
       "       0.7, 0.3, 0.7, 0.7, 0.7, 0.7, 0.7, 0.7, 0.3, 0.7, 0.7, 0.3, 0.7,\n",
       "       0.3, 0.7, 0.7, 0.3, 0.3, 0.7, 0.7, 0.7, 0.3, 0.7, 0.7, 0.3, 0.3,\n",
       "       0.7, 0.7, 0.3, 0.7, 0.7, 0.3, 0.7, 0.3, 0.3, 0.7, 0.7, 0.7, 0.3,\n",
       "       0.7, 0.7, 0.7, 0.3, 0.7, 0.3, 0.3, 0.7, 0.3, 0.3, 0.3, 0.7, 0.3,\n",
       "       0.3, 0.7, 0.7, 0.7, 0.7, 0.7, 0.7, 0.3, 0.7, 0.7, 0.7, 0.3, 0.7,\n",
       "       0.3, 0.3, 0.3, 0.3, 0.3, 0.7, 0.3, 0.3, 0.3, 0.3, 0.7, 0.7, 0.3,\n",
       "       0.7, 0.7, 0.3, 0.3, 0.3, 0.7, 0.7, 0.3, 0.3, 0.3, 0.3, 0.3, 0.3,\n",
       "       0.3, 0.3, 0.7, 0.3, 0.3, 0.3, 0.7, 0.3, 0.3, 0.7, 0.3, 0.7, 0.3,\n",
       "       0.7, 0.3, 0.7, 0.3, 0.7, 0.3, 0.3, 0.7, 0.3, 0.3, 0.3, 0.3, 0.7,\n",
       "       0.3, 0.3, 0.3, 0.7, 0.3, 0.7, 0.7, 0.7, 0.3, 0.7, 0.3, 0.7, 0.3,\n",
       "       0.3, 0.3, 0.3, 0.3, 0.7, 0.7, 0.3, 0.7, 0.3, 0.7, 0.7, 0.7, 0.3,\n",
       "       0.3, 0.7, 0.7, 0.3, 0.7, 0.7, 0.3, 0.7, 0.7, 0.3, 0.3, 0.3, 0.7,\n",
       "       0.3, 0.3, 0.3, 0.7, 0.3, 0.7, 0.7, 0.3, 0.3, 0.7, 0.7, 0.3, 0.7,\n",
       "       0.7, 0.3, 0.7, 0.7, 0.3, 0.7, 0.7, 0.3, 0.3, 0.3, 0.7, 0.3, 0.3,\n",
       "       0.7, 0.3, 0.3, 0.3, 0.7, 0.3, 0.3, 0.3, 0.3, 0.3, 0.7, 0.7, 0.7,\n",
       "       0.7, 0.7, 0.3, 0.3, 0.7, 0.3, 0.7, 0.7, 0.7, 0.3, 0.7, 0.7, 0.7,\n",
       "       0.3, 0.3, 0.7, 0.3, 0.7, 0.7, 0.3, 0.7, 0.7, 0.7, 0.7, 0.3, 0.3,\n",
       "       0.7, 0.7, 0.3, 0.7, 0.3, 0.3, 0.7, 0.7, 0.3, 0.3, 0.7, 0.3, 0.3,\n",
       "       0.7, 0.7, 0.7, 0.3, 0.3, 0.3, 0.7, 0.7, 0.7, 0.3, 0.3, 0.7, 0.7,\n",
       "       0.3, 0.3, 0.3, 0.3, 0.3, 0.3, 0.7, 0.7, 0.3, 0.7, 0.3, 0.3, 0.3,\n",
       "       0.3, 0.7, 0.3, 0.7, 0.3, 0.7, 0.7, 0.7, 0.7, 0.7, 0.3, 0.3, 0.7,\n",
       "       0.3, 0.3, 0.7, 0.3, 0.7, 0.3, 0.3, 0.7, 0.7, 0.7, 0.7, 0.3, 0.3,\n",
       "       0.7, 0.7, 0.7, 0.7, 0.3, 0.3, 0.3, 0.3, 0.3, 0.3, 0.7, 0.7, 0.3,\n",
       "       0.3, 0.3, 0.7, 0.3, 0.3, 0.3, 0.3, 0.7, 0.7, 0.7, 0.3, 0.7, 0.3,\n",
       "       0.3, 0.7, 0.3, 0.3, 0.3, 0.3, 0.3, 0.3, 0.7, 0.3, 0.7, 0.3, 0.3,\n",
       "       0.7, 0.7, 0.7, 0.3, 0.7, 0.7, 0.3, 0.7, 0.7, 0.3, 0.3, 0.7, 0.3,\n",
       "       0.3, 0.3, 0.3, 0.7, 0.7, 0.3, 0.3, 0.7, 0.7, 0.7, 0.3, 0.7, 0.7,\n",
       "       0.7, 0.7, 0.3, 0.7, 0.7, 0.3, 0.3, 0.7, 0.3, 0.7, 0.3, 0.7, 0.7,\n",
       "       0.3, 0.3, 0.7, 0.3, 0.3, 0.7, 0.3, 0.7, 0.3, 0.3, 0.7, 0.3, 0.7,\n",
       "       0.3, 0.7, 0.7, 0.7, 0.3, 0.7, 0.3, 0.3, 0.7, 0.7, 0.3, 0.3, 0.7,\n",
       "       0.3, 0.7, 0.7, 0.7, 0.3, 0.7, 0.3, 0.3, 0.3, 0.7, 0.7, 0.3, 0.3,\n",
       "       0.7, 0.7, 0.7, 0.7, 0.7, 0.7, 0.3, 0.7, 0.7, 0.3, 0.3, 0.3, 0.7,\n",
       "       0.3, 0.3, 0.7, 0.3, 0.7, 0.7, 0.7, 0.3, 0.7, 0.7, 0.7, 0.3, 0.3,\n",
       "       0.7, 0.7, 0.3, 0.7, 0.3, 0.7, 0.3, 0.3, 0.3, 0.3, 0.3, 0.3, 0.7,\n",
       "       0.7, 0.7, 0.7, 0.3, 0.7, 0.3, 0.3, 0.7, 0.7, 0.7, 0.3, 0.7, 0.7,\n",
       "       0.3, 0.7, 0.7, 0.7, 0.7, 0.3, 0.3, 0.3, 0.7, 0.3, 0.3, 0.7, 0.7,\n",
       "       0.7, 0.3, 0.3, 0.7, 0.7, 0.7, 0.3, 0.3, 0.3, 0.7, 0.3, 0.3, 0.3,\n",
       "       0.3, 0.7, 0.7, 0.7, 0.7, 0.7, 0.7, 0.3, 0.3, 0.7, 0.7, 0.7, 0.3,\n",
       "       0.3, 0.3, 0.3, 0.3, 0.3, 0.7, 0.7, 0.3, 0.3, 0.3, 0.3, 0.7])"
      ]
     },
     "execution_count": 297,
     "metadata": {},
     "output_type": "execute_result"
    }
   ],
   "source": [
    "\n",
    "for i in range(0,len(a)):\n",
    "    if a[i] == 1:\n",
    "        a_values.append(p)\n",
    "    else:\n",
    "        a_values.append(1-p)\n",
    "    i+=1    \n",
    "np.transpose(a_values)"
   ]
  },
  {
   "cell_type": "markdown",
   "metadata": {},
   "source": [
    "# Биномиальное"
   ]
  },
  {
   "cell_type": "code",
   "execution_count": 298,
   "metadata": {},
   "outputs": [
    {
     "data": {
      "text/plain": [
       "array([3, 1, 1, 5, 1, 4, 0, 2, 2, 1, 0, 1, 3, 0, 1, 1, 2, 4, 1, 2, 3, 4,\n",
       "       1, 5, 1, 1, 3, 5, 1, 1, 4, 1, 5, 2, 1, 5, 2, 4, 3, 1, 3, 4, 0, 4,\n",
       "       4, 0, 2, 0, 3, 5, 1, 0, 3, 1, 4, 4, 1, 4, 5, 2, 3, 4, 1, 2, 4, 2,\n",
       "       3, 5, 2, 5, 1, 3, 5, 1, 4, 0, 1, 2, 5, 2, 4, 1, 5, 1, 4, 2, 1, 2,\n",
       "       4, 0, 3, 4, 0, 3, 3, 1, 2, 5, 2, 3, 1, 3, 2, 1, 5, 1, 2, 3, 3, 0,\n",
       "       3, 3, 5, 0, 5, 2, 2, 4, 5, 0, 2, 0, 1, 2, 5, 1, 5, 3, 1, 5, 0, 3,\n",
       "       0, 4, 3, 3, 2, 4, 3, 3, 4, 4, 3, 5, 1, 4, 5, 1, 1, 5, 2, 2, 2, 0,\n",
       "       1, 4, 5, 2, 1, 3, 2, 2, 4, 3, 4, 3, 4, 1, 1, 3, 4, 0, 2, 0, 0, 0,\n",
       "       3, 4, 2, 5, 5, 5, 2, 2, 5, 5, 5, 5, 1, 2, 3, 4, 1, 0, 0, 4, 4, 0,\n",
       "       5, 3, 5, 0, 4, 4, 2, 2, 5, 2, 4, 0, 4, 1, 0, 5, 5, 5, 3, 4, 1, 1,\n",
       "       5, 4, 0, 0, 5, 1, 5, 3, 5, 5, 5, 0, 2, 0, 2, 4, 4, 3, 5, 2, 0, 4,\n",
       "       5, 2, 3, 5, 0, 5, 3, 4, 3, 2, 4, 1, 0, 0, 1, 5, 3, 5, 1, 1, 0, 0,\n",
       "       1, 3, 5, 1, 0, 4, 1, 2, 5, 4, 4, 4, 1, 3, 4, 3, 0, 3, 1, 3, 5, 3,\n",
       "       1, 2, 4, 2, 0, 4, 4, 2, 5, 1, 5, 3, 4, 5, 5, 4, 4, 0, 5, 4, 2, 4,\n",
       "       3, 1, 1, 0, 4, 4, 3, 5, 0, 0, 2, 0, 2, 4, 4, 0, 5, 5, 4, 2, 1, 1,\n",
       "       3, 4, 4, 1, 1, 2, 5, 1, 2, 5, 1, 0, 3, 5, 4, 5, 2, 4, 1, 4, 4, 2,\n",
       "       1, 2, 0, 4, 1, 1, 2, 3, 5, 2, 2, 5, 1, 0, 1, 1, 4, 2, 0, 5, 3, 4,\n",
       "       3, 1, 1, 4, 0, 1, 1, 4, 0, 1, 2, 0, 1, 1, 4, 1, 2, 0, 5, 3, 0, 4,\n",
       "       2, 0, 3, 1, 2, 2, 4, 4, 5, 4, 5, 3, 3, 0, 5, 1, 5, 0, 3, 0, 4, 0,\n",
       "       2, 5, 3, 2, 5, 2, 0, 0, 1, 0, 5, 0, 4, 0, 4, 2, 3, 4, 1, 5, 4, 4,\n",
       "       1, 3, 0, 1, 4, 4, 5, 0, 0, 1, 1, 3, 1, 1, 4, 0, 4, 4, 2, 3, 0, 0,\n",
       "       1, 4, 3, 1, 0, 4, 5, 5, 3, 2, 4, 5, 1, 5, 2, 0, 3, 0, 2, 0, 3, 5,\n",
       "       4, 1, 2, 4, 5, 0, 3, 5, 3, 0, 5, 0, 2, 0, 5, 2, 2, 5, 2, 2, 5, 3,\n",
       "       2, 5, 4, 5, 2, 5, 0, 1, 4, 0, 3, 4, 4, 3, 5, 4, 2, 3, 5, 1, 5, 1,\n",
       "       0, 1, 4, 5, 0, 4, 3, 5, 3, 5, 5, 2, 2, 5, 1, 3, 1, 3, 4, 4, 1, 4,\n",
       "       2, 2, 0, 3, 3, 3, 3, 1, 5, 0, 3, 5, 1, 2, 1, 2, 2, 3, 3, 5, 5, 0,\n",
       "       4, 1, 2, 1, 4, 5, 4, 1, 2, 2, 3, 5, 4, 3, 3, 2, 2, 2, 5, 2, 2, 4,\n",
       "       4, 1, 2, 0, 5, 4, 4, 1, 5, 4, 5, 1, 2, 2, 2, 0, 2, 0, 0, 5, 2, 2,\n",
       "       3, 5, 2, 3, 4, 1, 5, 3, 2, 5, 0, 4, 4, 3, 5, 2, 3, 4, 4, 5, 1, 3,\n",
       "       2, 5, 4, 0, 4, 1, 4, 0, 3, 3, 5, 3, 4, 4, 3, 3, 5, 3, 0, 1, 2, 1,\n",
       "       2, 5, 5, 2, 5, 4, 2, 0, 4, 2, 2, 3, 3, 2, 2, 5, 5, 5, 5, 0, 0, 4,\n",
       "       5, 4, 5, 0, 4, 5, 2, 4, 1, 2, 1, 4, 0, 1, 3, 0, 4, 3, 2, 0, 3, 3,\n",
       "       3, 3, 0, 0, 1, 0, 0, 2, 2, 3, 1, 4, 4, 1, 3, 5, 2, 2, 3, 2, 3, 5,\n",
       "       4, 3, 5, 4, 2, 4, 3, 1, 2, 5, 0, 3, 1, 4, 3, 2, 4, 1, 1, 1, 0, 4,\n",
       "       5, 0, 3, 1, 4, 0, 2, 4, 3, 0, 2, 2, 1, 4, 0, 2, 2, 3, 5, 5, 2, 5,\n",
       "       5, 3, 1, 4, 0, 2, 0, 5, 4, 0, 2, 0, 5, 5, 2, 2, 2, 5, 0, 5, 1, 5,\n",
       "       4, 1, 2, 3, 3, 3, 3, 0, 5, 0, 5, 0, 3, 0, 1, 0, 4, 4, 3, 3, 0, 1,\n",
       "       0, 2, 2, 5, 0, 0, 3, 3, 0, 5, 2, 3, 1, 4, 5, 1, 0, 2, 0, 0, 5, 3,\n",
       "       4, 4, 5, 0, 2, 2, 3, 3, 0, 0, 1, 0, 2, 2, 2, 3, 5, 4, 5, 4, 3, 2,\n",
       "       2, 2, 0, 1, 0, 5, 5, 5, 1, 4, 2, 1, 2, 4, 0, 0, 3, 3, 3, 2, 1, 4,\n",
       "       3, 1, 4, 0, 5, 2, 3, 1, 1, 3, 0, 2, 3, 5, 2, 4, 2, 5, 3, 4, 5, 3,\n",
       "       2, 3, 2, 2, 2, 4, 0, 0, 1, 1, 4, 5, 0, 3, 4, 0, 2, 4, 1, 1, 5, 0,\n",
       "       3, 1, 3, 2, 5, 0, 4, 1, 0, 2, 3, 4, 0, 4, 5, 4, 2, 2, 0, 2, 5, 5,\n",
       "       3, 1, 4, 0, 4, 4, 3, 0, 2, 5, 3, 2, 0, 3, 2, 5, 5, 2, 3, 2, 4, 3,\n",
       "       5, 5, 5, 2, 0, 4, 3, 2, 4, 1, 2, 3, 4, 3, 2, 5, 1, 5, 5, 0, 2, 5,\n",
       "       2, 3, 2, 5, 3, 4, 5, 1, 5, 1])"
      ]
     },
     "execution_count": 298,
     "metadata": {},
     "output_type": "execute_result"
    }
   ],
   "source": [
    "p = 0.3\n",
    "n = 5\n",
    "b = np.random.randint(0,6, size = 1000)\n",
    "b_values = []\n",
    "b"
   ]
  },
  {
   "cell_type": "code",
   "execution_count": 299,
   "metadata": {},
   "outputs": [
    {
     "data": {
      "text/plain": [
       "array([0.1323 , 0.36015, 0.36015, 0.00243, 0.36015, 0.02835, 0.16807,\n",
       "       0.3087 , 0.3087 , 0.36015, 0.16807, 0.36015, 0.1323 , 0.16807,\n",
       "       0.36015, 0.36015, 0.3087 , 0.02835, 0.36015, 0.3087 , 0.1323 ,\n",
       "       0.02835, 0.36015, 0.00243, 0.36015, 0.36015, 0.1323 , 0.00243,\n",
       "       0.36015, 0.36015, 0.02835, 0.36015, 0.00243, 0.3087 , 0.36015,\n",
       "       0.00243, 0.3087 , 0.02835, 0.1323 , 0.36015, 0.1323 , 0.02835,\n",
       "       0.16807, 0.02835, 0.02835, 0.16807, 0.3087 , 0.16807, 0.1323 ,\n",
       "       0.00243, 0.36015, 0.16807, 0.1323 , 0.36015, 0.02835, 0.02835,\n",
       "       0.36015, 0.02835, 0.00243, 0.3087 , 0.1323 , 0.02835, 0.36015,\n",
       "       0.3087 , 0.02835, 0.3087 , 0.1323 , 0.00243, 0.3087 , 0.00243,\n",
       "       0.36015, 0.1323 , 0.00243, 0.36015, 0.02835, 0.16807, 0.36015,\n",
       "       0.3087 , 0.00243, 0.3087 , 0.02835, 0.36015, 0.00243, 0.36015,\n",
       "       0.02835, 0.3087 , 0.36015, 0.3087 , 0.02835, 0.16807, 0.1323 ,\n",
       "       0.02835, 0.16807, 0.1323 , 0.1323 , 0.36015, 0.3087 , 0.00243,\n",
       "       0.3087 , 0.1323 , 0.36015, 0.1323 , 0.3087 , 0.36015, 0.00243,\n",
       "       0.36015, 0.3087 , 0.1323 , 0.1323 , 0.16807, 0.1323 , 0.1323 ,\n",
       "       0.00243, 0.16807, 0.00243, 0.3087 , 0.3087 , 0.02835, 0.00243,\n",
       "       0.16807, 0.3087 , 0.16807, 0.36015, 0.3087 , 0.00243, 0.36015,\n",
       "       0.00243, 0.1323 , 0.36015, 0.00243, 0.16807, 0.1323 , 0.16807,\n",
       "       0.02835, 0.1323 , 0.1323 , 0.3087 , 0.02835, 0.1323 , 0.1323 ,\n",
       "       0.02835, 0.02835, 0.1323 , 0.00243, 0.36015, 0.02835, 0.00243,\n",
       "       0.36015, 0.36015, 0.00243, 0.3087 , 0.3087 , 0.3087 , 0.16807,\n",
       "       0.36015, 0.02835, 0.00243, 0.3087 , 0.36015, 0.1323 , 0.3087 ,\n",
       "       0.3087 , 0.02835, 0.1323 , 0.02835, 0.1323 , 0.02835, 0.36015,\n",
       "       0.36015, 0.1323 , 0.02835, 0.16807, 0.3087 , 0.16807, 0.16807,\n",
       "       0.16807, 0.1323 , 0.02835, 0.3087 , 0.00243, 0.00243, 0.00243,\n",
       "       0.3087 , 0.3087 , 0.00243, 0.00243, 0.00243, 0.00243, 0.36015,\n",
       "       0.3087 , 0.1323 , 0.02835, 0.36015, 0.16807, 0.16807, 0.02835,\n",
       "       0.02835, 0.16807, 0.00243, 0.1323 , 0.00243, 0.16807, 0.02835,\n",
       "       0.02835, 0.3087 , 0.3087 , 0.00243, 0.3087 , 0.02835, 0.16807,\n",
       "       0.02835, 0.36015, 0.16807, 0.00243, 0.00243, 0.00243, 0.1323 ,\n",
       "       0.02835, 0.36015, 0.36015, 0.00243, 0.02835, 0.16807, 0.16807,\n",
       "       0.00243, 0.36015, 0.00243, 0.1323 , 0.00243, 0.00243, 0.00243,\n",
       "       0.16807, 0.3087 , 0.16807, 0.3087 , 0.02835, 0.02835, 0.1323 ,\n",
       "       0.00243, 0.3087 , 0.16807, 0.02835, 0.00243, 0.3087 , 0.1323 ,\n",
       "       0.00243, 0.16807, 0.00243, 0.1323 , 0.02835, 0.1323 , 0.3087 ,\n",
       "       0.02835, 0.36015, 0.16807, 0.16807, 0.36015, 0.00243, 0.1323 ,\n",
       "       0.00243, 0.36015, 0.36015, 0.16807, 0.16807, 0.36015, 0.1323 ,\n",
       "       0.00243, 0.36015, 0.16807, 0.02835, 0.36015, 0.3087 , 0.00243,\n",
       "       0.02835, 0.02835, 0.02835, 0.36015, 0.1323 , 0.02835, 0.1323 ,\n",
       "       0.16807, 0.1323 , 0.36015, 0.1323 , 0.00243, 0.1323 , 0.36015,\n",
       "       0.3087 , 0.02835, 0.3087 , 0.16807, 0.02835, 0.02835, 0.3087 ,\n",
       "       0.00243, 0.36015, 0.00243, 0.1323 , 0.02835, 0.00243, 0.00243,\n",
       "       0.02835, 0.02835, 0.16807, 0.00243, 0.02835, 0.3087 , 0.02835,\n",
       "       0.1323 , 0.36015, 0.36015, 0.16807, 0.02835, 0.02835, 0.1323 ,\n",
       "       0.00243, 0.16807, 0.16807, 0.3087 , 0.16807, 0.3087 , 0.02835,\n",
       "       0.02835, 0.16807, 0.00243, 0.00243, 0.02835, 0.3087 , 0.36015,\n",
       "       0.36015, 0.1323 , 0.02835, 0.02835, 0.36015, 0.36015, 0.3087 ,\n",
       "       0.00243, 0.36015, 0.3087 , 0.00243, 0.36015, 0.16807, 0.1323 ,\n",
       "       0.00243, 0.02835, 0.00243, 0.3087 , 0.02835, 0.36015, 0.02835,\n",
       "       0.02835, 0.3087 , 0.36015, 0.3087 , 0.16807, 0.02835, 0.36015,\n",
       "       0.36015, 0.3087 , 0.1323 , 0.00243, 0.3087 , 0.3087 , 0.00243,\n",
       "       0.36015, 0.16807, 0.36015, 0.36015, 0.02835, 0.3087 , 0.16807,\n",
       "       0.00243, 0.1323 , 0.02835, 0.1323 , 0.36015, 0.36015, 0.02835,\n",
       "       0.16807, 0.36015, 0.36015, 0.02835, 0.16807, 0.36015, 0.3087 ,\n",
       "       0.16807, 0.36015, 0.36015, 0.02835, 0.36015, 0.3087 , 0.16807,\n",
       "       0.00243, 0.1323 , 0.16807, 0.02835, 0.3087 , 0.16807, 0.1323 ,\n",
       "       0.36015, 0.3087 , 0.3087 , 0.02835, 0.02835, 0.00243, 0.02835,\n",
       "       0.00243, 0.1323 , 0.1323 , 0.16807, 0.00243, 0.36015, 0.00243,\n",
       "       0.16807, 0.1323 , 0.16807, 0.02835, 0.16807, 0.3087 , 0.00243,\n",
       "       0.1323 , 0.3087 , 0.00243, 0.3087 , 0.16807, 0.16807, 0.36015,\n",
       "       0.16807, 0.00243, 0.16807, 0.02835, 0.16807, 0.02835, 0.3087 ,\n",
       "       0.1323 , 0.02835, 0.36015, 0.00243, 0.02835, 0.02835, 0.36015,\n",
       "       0.1323 , 0.16807, 0.36015, 0.02835, 0.02835, 0.00243, 0.16807,\n",
       "       0.16807, 0.36015, 0.36015, 0.1323 , 0.36015, 0.36015, 0.02835,\n",
       "       0.16807, 0.02835, 0.02835, 0.3087 , 0.1323 , 0.16807, 0.16807,\n",
       "       0.36015, 0.02835, 0.1323 , 0.36015, 0.16807, 0.02835, 0.00243,\n",
       "       0.00243, 0.1323 , 0.3087 , 0.02835, 0.00243, 0.36015, 0.00243,\n",
       "       0.3087 , 0.16807, 0.1323 , 0.16807, 0.3087 , 0.16807, 0.1323 ,\n",
       "       0.00243, 0.02835, 0.36015, 0.3087 , 0.02835, 0.00243, 0.16807,\n",
       "       0.1323 , 0.00243, 0.1323 , 0.16807, 0.00243, 0.16807, 0.3087 ,\n",
       "       0.16807, 0.00243, 0.3087 , 0.3087 , 0.00243, 0.3087 , 0.3087 ,\n",
       "       0.00243, 0.1323 , 0.3087 , 0.00243, 0.02835, 0.00243, 0.3087 ,\n",
       "       0.00243, 0.16807, 0.36015, 0.02835, 0.16807, 0.1323 , 0.02835,\n",
       "       0.02835, 0.1323 , 0.00243, 0.02835, 0.3087 , 0.1323 , 0.00243,\n",
       "       0.36015, 0.00243, 0.36015, 0.16807, 0.36015, 0.02835, 0.00243,\n",
       "       0.16807, 0.02835, 0.1323 , 0.00243, 0.1323 , 0.00243, 0.00243,\n",
       "       0.3087 , 0.3087 , 0.00243, 0.36015, 0.1323 , 0.36015, 0.1323 ,\n",
       "       0.02835, 0.02835, 0.36015, 0.02835, 0.3087 , 0.3087 , 0.16807,\n",
       "       0.1323 , 0.1323 , 0.1323 , 0.1323 , 0.36015, 0.00243, 0.16807,\n",
       "       0.1323 , 0.00243, 0.36015, 0.3087 , 0.36015, 0.3087 , 0.3087 ,\n",
       "       0.1323 , 0.1323 , 0.00243, 0.00243, 0.16807, 0.02835, 0.36015,\n",
       "       0.3087 , 0.36015, 0.02835, 0.00243, 0.02835, 0.36015, 0.3087 ,\n",
       "       0.3087 , 0.1323 , 0.00243, 0.02835, 0.1323 , 0.1323 , 0.3087 ,\n",
       "       0.3087 , 0.3087 , 0.00243, 0.3087 , 0.3087 , 0.02835, 0.02835,\n",
       "       0.36015, 0.3087 , 0.16807, 0.00243, 0.02835, 0.02835, 0.36015,\n",
       "       0.00243, 0.02835, 0.00243, 0.36015, 0.3087 , 0.3087 , 0.3087 ,\n",
       "       0.16807, 0.3087 , 0.16807, 0.16807, 0.00243, 0.3087 , 0.3087 ,\n",
       "       0.1323 , 0.00243, 0.3087 , 0.1323 , 0.02835, 0.36015, 0.00243,\n",
       "       0.1323 , 0.3087 , 0.00243, 0.16807, 0.02835, 0.02835, 0.1323 ,\n",
       "       0.00243, 0.3087 , 0.1323 , 0.02835, 0.02835, 0.00243, 0.36015,\n",
       "       0.1323 , 0.3087 , 0.00243, 0.02835, 0.16807, 0.02835, 0.36015,\n",
       "       0.02835, 0.16807, 0.1323 , 0.1323 , 0.00243, 0.1323 , 0.02835,\n",
       "       0.02835, 0.1323 , 0.1323 , 0.00243, 0.1323 , 0.16807, 0.36015,\n",
       "       0.3087 , 0.36015, 0.3087 , 0.00243, 0.00243, 0.3087 , 0.00243,\n",
       "       0.02835, 0.3087 , 0.16807, 0.02835, 0.3087 , 0.3087 , 0.1323 ,\n",
       "       0.1323 , 0.3087 , 0.3087 , 0.00243, 0.00243, 0.00243, 0.00243,\n",
       "       0.16807, 0.16807, 0.02835, 0.00243, 0.02835, 0.00243, 0.16807,\n",
       "       0.02835, 0.00243, 0.3087 , 0.02835, 0.36015, 0.3087 , 0.36015,\n",
       "       0.02835, 0.16807, 0.36015, 0.1323 , 0.16807, 0.02835, 0.1323 ,\n",
       "       0.3087 , 0.16807, 0.1323 , 0.1323 , 0.1323 , 0.1323 , 0.16807,\n",
       "       0.16807, 0.36015, 0.16807, 0.16807, 0.3087 , 0.3087 , 0.1323 ,\n",
       "       0.36015, 0.02835, 0.02835, 0.36015, 0.1323 , 0.00243, 0.3087 ,\n",
       "       0.3087 , 0.1323 , 0.3087 , 0.1323 , 0.00243, 0.02835, 0.1323 ,\n",
       "       0.00243, 0.02835, 0.3087 , 0.02835, 0.1323 , 0.36015, 0.3087 ,\n",
       "       0.00243, 0.16807, 0.1323 , 0.36015, 0.02835, 0.1323 , 0.3087 ,\n",
       "       0.02835, 0.36015, 0.36015, 0.36015, 0.16807, 0.02835, 0.00243,\n",
       "       0.16807, 0.1323 , 0.36015, 0.02835, 0.16807, 0.3087 , 0.02835,\n",
       "       0.1323 , 0.16807, 0.3087 , 0.3087 , 0.36015, 0.02835, 0.16807,\n",
       "       0.3087 , 0.3087 , 0.1323 , 0.00243, 0.00243, 0.3087 , 0.00243,\n",
       "       0.00243, 0.1323 , 0.36015, 0.02835, 0.16807, 0.3087 , 0.16807,\n",
       "       0.00243, 0.02835, 0.16807, 0.3087 , 0.16807, 0.00243, 0.00243,\n",
       "       0.3087 , 0.3087 , 0.3087 , 0.00243, 0.16807, 0.00243, 0.36015,\n",
       "       0.00243, 0.02835, 0.36015, 0.3087 , 0.1323 , 0.1323 , 0.1323 ,\n",
       "       0.1323 , 0.16807, 0.00243, 0.16807, 0.00243, 0.16807, 0.1323 ,\n",
       "       0.16807, 0.36015, 0.16807, 0.02835, 0.02835, 0.1323 , 0.1323 ,\n",
       "       0.16807, 0.36015, 0.16807, 0.3087 , 0.3087 , 0.00243, 0.16807,\n",
       "       0.16807, 0.1323 , 0.1323 , 0.16807, 0.00243, 0.3087 , 0.1323 ,\n",
       "       0.36015, 0.02835, 0.00243, 0.36015, 0.16807, 0.3087 , 0.16807,\n",
       "       0.16807, 0.00243, 0.1323 , 0.02835, 0.02835, 0.00243, 0.16807,\n",
       "       0.3087 , 0.3087 , 0.1323 , 0.1323 , 0.16807, 0.16807, 0.36015,\n",
       "       0.16807, 0.3087 , 0.3087 , 0.3087 , 0.1323 , 0.00243, 0.02835,\n",
       "       0.00243, 0.02835, 0.1323 , 0.3087 , 0.3087 , 0.3087 , 0.16807,\n",
       "       0.36015, 0.16807, 0.00243, 0.00243, 0.00243, 0.36015, 0.02835,\n",
       "       0.3087 , 0.36015, 0.3087 , 0.02835, 0.16807, 0.16807, 0.1323 ,\n",
       "       0.1323 , 0.1323 , 0.3087 , 0.36015, 0.02835, 0.1323 , 0.36015,\n",
       "       0.02835, 0.16807, 0.00243, 0.3087 , 0.1323 , 0.36015, 0.36015,\n",
       "       0.1323 , 0.16807, 0.3087 , 0.1323 , 0.00243, 0.3087 , 0.02835,\n",
       "       0.3087 , 0.00243, 0.1323 , 0.02835, 0.00243, 0.1323 , 0.3087 ,\n",
       "       0.1323 , 0.3087 , 0.3087 , 0.3087 , 0.02835, 0.16807, 0.16807,\n",
       "       0.36015, 0.36015, 0.02835, 0.00243, 0.16807, 0.1323 , 0.02835,\n",
       "       0.16807, 0.3087 , 0.02835, 0.36015, 0.36015, 0.00243, 0.16807,\n",
       "       0.1323 , 0.36015, 0.1323 , 0.3087 , 0.00243, 0.16807, 0.02835,\n",
       "       0.36015, 0.16807, 0.3087 , 0.1323 , 0.02835, 0.16807, 0.02835,\n",
       "       0.00243, 0.02835, 0.3087 , 0.3087 , 0.16807, 0.3087 , 0.00243,\n",
       "       0.00243, 0.1323 , 0.36015, 0.02835, 0.16807, 0.02835, 0.02835,\n",
       "       0.1323 , 0.16807, 0.3087 , 0.00243, 0.1323 , 0.3087 , 0.16807,\n",
       "       0.1323 , 0.3087 , 0.00243, 0.00243, 0.3087 , 0.1323 , 0.3087 ,\n",
       "       0.02835, 0.1323 , 0.00243, 0.00243, 0.00243, 0.3087 , 0.16807,\n",
       "       0.02835, 0.1323 , 0.3087 , 0.02835, 0.36015, 0.3087 , 0.1323 ,\n",
       "       0.02835, 0.1323 , 0.3087 , 0.00243, 0.36015, 0.00243, 0.00243,\n",
       "       0.16807, 0.3087 , 0.00243, 0.3087 , 0.1323 , 0.3087 , 0.00243,\n",
       "       0.1323 , 0.02835, 0.00243, 0.36015, 0.00243, 0.36015])"
      ]
     },
     "execution_count": 299,
     "metadata": {},
     "output_type": "execute_result"
    }
   ],
   "source": [
    "for i in range (0,len(b)):\n",
    "    binom = scipy.special.comb(5,int(b[i]), exact = True)*p**(int(b[i]))*(1-p)**(n-int(b[i])) # comb - число сочетаний, чтобы не использовать квантиль\n",
    "    b_values.append(binom)\n",
    "    i+=1\n",
    "np.transpose(b_values)"
   ]
  },
  {
   "cell_type": "markdown",
   "metadata": {},
   "source": [
    "# Пуассон"
   ]
  },
  {
   "cell_type": "code",
   "execution_count": 300,
   "metadata": {},
   "outputs": [],
   "source": [
    "lamb = 5 \n",
    "n = 1000\n",
    "pois = np.random.poisson(lamb, n)"
   ]
  },
  {
   "cell_type": "code",
   "execution_count": 301,
   "metadata": {},
   "outputs": [
    {
     "data": {
      "text/plain": [
       "array([ 4,  8,  4,  4,  5,  6,  6,  4,  8,  5,  5,  5,  4,  6, 11,  6,  8,\n",
       "        6,  5,  9,  3,  7,  7,  2,  8,  5,  2,  7,  4,  4, 10,  5,  4,  4,\n",
       "        7,  4,  6,  6,  4,  4,  4,  4,  2,  6,  4,  5,  7,  4,  3,  2,  4,\n",
       "       10,  5,  4,  4,  8,  2,  6,  5,  8,  4,  7,  4,  5,  2,  5,  5,  8,\n",
       "        4,  4,  7,  3,  5,  5,  3,  4,  4,  7,  3,  4,  4,  0,  6,  3,  4,\n",
       "        7,  5,  7,  4,  4, 12,  6,  5,  5,  3,  4,  3,  6, 10,  4,  7,  1,\n",
       "        1,  9,  5,  7,  7,  3,  3,  3,  5,  1,  4,  9,  5,  4,  5,  9,  3,\n",
       "        3,  2,  5,  3,  7,  5,  3,  3,  7, 12,  3,  4,  2,  5,  7,  8,  4,\n",
       "        1,  4,  1,  5,  7,  3,  9,  4, 10,  4,  7,  6,  6,  3,  4,  8,  5,\n",
       "        8,  4,  2,  2,  5,  6,  6,  4,  7,  7,  5,  4,  5,  2,  2,  3,  8,\n",
       "        3,  7,  5,  6,  7,  6,  6,  4,  6,  8,  7,  4,  5,  8,  7,  4,  6,\n",
       "        4,  4,  4,  3,  6,  3,  4,  5,  2,  7,  3,  2,  4,  6,  6,  5,  9,\n",
       "        3,  2,  4,  5,  3,  6, 10,  4,  8,  2, 12,  9,  3,  6,  7,  8,  5,\n",
       "        8,  2,  8,  3,  5,  4,  8,  8,  4,  4, 11,  2,  8,  6, 11,  5,  3,\n",
       "        3,  6,  3,  1,  4,  3, 11,  5,  5,  3,  4,  3,  5,  6, 11,  6,  6,\n",
       "        3,  6,  2,  4,  5,  7,  7,  3,  5,  4,  4,  2,  0,  1,  4,  6,  5,\n",
       "        4,  6,  5,  3,  3,  5,  2, 11,  7,  4,  5,  8,  6,  6,  3,  2,  4,\n",
       "        5,  7,  2,  6,  4,  5,  6,  6,  0,  4,  2,  4,  2,  4,  1,  4,  5,\n",
       "        1,  4,  6,  4,  6,  6,  5,  6,  3,  3,  7,  6,  6,  8,  6,  4,  6,\n",
       "        5, 12,  5,  2,  3,  2,  4,  2,  5,  6,  9,  5,  2,  5,  5, 11,  2,\n",
       "        6,  6,  8,  8,  3,  8,  7,  4,  3,  2,  2, 10,  5,  5,  2,  4,  1,\n",
       "        4,  3,  5,  6,  5,  6,  3,  4,  5,  4,  6,  3,  7,  4,  4,  5,  3,\n",
       "        7,  3,  6,  9,  5,  4,  3,  5,  0,  3,  4,  6,  6,  8,  7,  9,  7,\n",
       "        7,  8,  8,  2,  5,  2,  4,  6,  3,  5,  3,  2,  2,  5,  5,  8,  4,\n",
       "        3,  4,  6,  2,  8,  6,  3,  8,  4,  5,  5,  3,  8,  5,  8,  3,  5,\n",
       "        6,  9,  8,  4,  6,  5,  3,  6,  3,  9,  7,  2,  9,  2,  1,  6,  6,\n",
       "        4,  2,  6,  5,  4,  6,  8,  9,  8,  5,  4,  5,  4,  8,  4,  9,  8,\n",
       "        5,  7,  4,  4,  1,  4,  5,  5, 10,  3,  3,  7,  8,  8,  3,  5,  4,\n",
       "        4,  2,  6,  4,  7,  6,  5,  7,  2,  5,  4,  7,  5,  3,  6,  6,  5,\n",
       "        5,  5,  6,  5,  5,  4,  5,  5,  4,  4,  3,  2,  8,  4,  3,  2,  4,\n",
       "        7,  5,  5,  8,  7,  4,  3,  4,  5,  7,  6,  7,  2,  6,  5,  6,  7,\n",
       "        5,  3,  7,  4,  7,  1,  8,  4,  5,  3,  3,  4,  3,  3,  4,  5,  8,\n",
       "        3,  5,  6,  5,  6, 10,  9,  2,  7,  5,  6,  5,  7,  3,  5,  7,  3,\n",
       "        5,  8,  2,  4, 10,  8,  7,  4,  7,  4,  3, 10,  3,  4,  3,  6,  9,\n",
       "        4,  4,  7,  7,  1,  4,  2,  3,  6,  4,  2,  8,  6,  5,  3,  3,  4,\n",
       "        6,  4,  5,  3,  4,  8,  5,  8,  8,  1,  8,  3, 10,  7,  4,  1,  4,\n",
       "        2,  3,  6,  6,  4,  3,  8,  5,  4,  2,  3,  9,  5,  6,  5,  5,  3,\n",
       "       10,  4,  6,  7,  5,  6,  1,  5,  6,  3,  3,  7,  6,  2,  3,  7,  9,\n",
       "        5,  5,  4,  4,  6,  5,  6,  5,  5,  5,  4,  5,  4, 10,  4,  4,  8,\n",
       "        5,  1,  6,  3,  3,  6,  6,  4,  7,  6,  3,  5,  4,  5,  7,  4,  2,\n",
       "        8,  6,  4,  8,  3,  3, 10,  3,  6,  9,  5,  3,  2,  4,  5,  3,  4,\n",
       "        5,  5,  5,  2,  6,  5,  6,  9,  3,  3,  5,  2,  6,  8,  4,  5,  7,\n",
       "        6,  9,  4,  5,  6,  4,  3,  7,  5,  2,  3,  3,  1,  7,  2,  5,  3,\n",
       "        6,  3,  6,  2,  5,  3,  3,  7,  1,  4,  6,  8,  7,  2,  2,  5,  5,\n",
       "        7,  6,  3,  7,  5,  6,  3,  7,  8,  3,  6,  7,  1,  8,  4,  6,  5,\n",
       "        7,  5,  5,  1,  5,  3,  6,  6,  7,  9,  8,  3,  2,  5, 12,  4,  6,\n",
       "        3,  4, 12,  6,  7,  2,  9,  7,  4,  8,  5,  2,  7,  5,  7,  6,  3,\n",
       "        5,  3,  5,  2,  3,  5, 11,  6,  4,  6,  4,  7,  3,  5,  6, 12,  5,\n",
       "        5,  3,  1,  5,  5,  2,  8,  8,  3,  4,  7,  8,  4,  5,  5,  2,  9,\n",
       "        7,  6,  5,  6,  4,  2,  5, 12,  9,  1,  9,  6,  3,  2,  3,  6,  3,\n",
       "        6,  7,  4,  4,  2,  3,  2,  5,  6,  3,  2,  6,  8,  9,  2,  3,  4,\n",
       "        2,  6,  6,  5,  7,  4,  7,  4,  6,  6,  2,  3,  4,  3, 12,  2,  6,\n",
       "        5,  3,  4,  3,  5,  4,  5,  5,  5,  6,  7,  3,  5,  2,  0,  4,  4,\n",
       "        6,  3,  5,  6,  4,  2,  6,  6,  2,  4,  8,  3,  4,  7,  5,  6,  7,\n",
       "        4,  3,  5,  5,  6,  3,  4,  6,  5,  7,  5,  7,  7,  9,  1,  5,  6,\n",
       "        6,  5,  6,  6, 10, 12,  4,  2,  7,  3,  4,  3,  4,  9,  5,  5,  4,\n",
       "        6,  3,  8,  0,  5,  2,  6,  4,  3,  4,  4,  5,  6,  5,  4,  6,  6,\n",
       "        5,  6, 11,  6,  3,  3,  3,  6,  5,  6,  1,  3,  5,  4,  7,  6,  5,\n",
       "        6,  3,  5,  4,  8,  5,  6,  7,  5,  5,  3,  4,  6,  2])"
      ]
     },
     "execution_count": 301,
     "metadata": {},
     "output_type": "execute_result"
    }
   ],
   "source": [
    "pois"
   ]
  },
  {
   "cell_type": "code",
   "execution_count": 302,
   "metadata": {},
   "outputs": [
    {
     "data": {
      "text/plain": [
       "array([0.17546737, 0.06527804, 0.17546737, 0.17546737, 0.17546737,\n",
       "       0.14622281, 0.14622281, 0.17546737, 0.06527804, 0.17546737,\n",
       "       0.17546737, 0.17546737, 0.17546737, 0.14622281, 0.00824218,\n",
       "       0.14622281, 0.06527804, 0.14622281, 0.17546737, 0.03626558,\n",
       "       0.1403739 , 0.10444486, 0.10444486, 0.08422434, 0.06527804,\n",
       "       0.17546737, 0.08422434, 0.10444486, 0.17546737, 0.17546737,\n",
       "       0.01813279, 0.17546737, 0.17546737, 0.17546737, 0.10444486,\n",
       "       0.17546737, 0.14622281, 0.14622281, 0.17546737, 0.17546737,\n",
       "       0.17546737, 0.17546737, 0.08422434, 0.14622281, 0.17546737,\n",
       "       0.17546737, 0.10444486, 0.17546737, 0.1403739 , 0.08422434,\n",
       "       0.17546737, 0.01813279, 0.17546737, 0.17546737, 0.17546737,\n",
       "       0.06527804, 0.08422434, 0.14622281, 0.17546737, 0.06527804,\n",
       "       0.17546737, 0.10444486, 0.17546737, 0.17546737, 0.08422434,\n",
       "       0.17546737, 0.17546737, 0.06527804, 0.17546737, 0.17546737,\n",
       "       0.10444486, 0.1403739 , 0.17546737, 0.17546737, 0.1403739 ,\n",
       "       0.17546737, 0.17546737, 0.10444486, 0.1403739 , 0.17546737,\n",
       "       0.17546737, 0.00673795, 0.14622281, 0.1403739 , 0.17546737,\n",
       "       0.10444486, 0.17546737, 0.10444486, 0.17546737, 0.17546737,\n",
       "       0.00343424, 0.14622281, 0.17546737, 0.17546737, 0.1403739 ,\n",
       "       0.17546737, 0.1403739 , 0.14622281, 0.01813279, 0.17546737,\n",
       "       0.10444486, 0.03368973, 0.03368973, 0.03626558, 0.17546737,\n",
       "       0.10444486, 0.10444486, 0.1403739 , 0.1403739 , 0.1403739 ,\n",
       "       0.17546737, 0.03368973, 0.17546737, 0.03626558, 0.17546737,\n",
       "       0.17546737, 0.17546737, 0.03626558, 0.1403739 , 0.1403739 ,\n",
       "       0.08422434, 0.17546737, 0.1403739 , 0.10444486, 0.17546737,\n",
       "       0.1403739 , 0.1403739 , 0.10444486, 0.00343424, 0.1403739 ,\n",
       "       0.17546737, 0.08422434, 0.17546737, 0.10444486, 0.06527804,\n",
       "       0.17546737, 0.03368973, 0.17546737, 0.03368973, 0.17546737,\n",
       "       0.10444486, 0.1403739 , 0.03626558, 0.17546737, 0.01813279,\n",
       "       0.17546737, 0.10444486, 0.14622281, 0.14622281, 0.1403739 ,\n",
       "       0.17546737, 0.06527804, 0.17546737, 0.06527804, 0.17546737,\n",
       "       0.08422434, 0.08422434, 0.17546737, 0.14622281, 0.14622281,\n",
       "       0.17546737, 0.10444486, 0.10444486, 0.17546737, 0.17546737,\n",
       "       0.17546737, 0.08422434, 0.08422434, 0.1403739 , 0.06527804,\n",
       "       0.1403739 , 0.10444486, 0.17546737, 0.14622281, 0.10444486,\n",
       "       0.14622281, 0.14622281, 0.17546737, 0.14622281, 0.06527804,\n",
       "       0.10444486, 0.17546737, 0.17546737, 0.06527804, 0.10444486,\n",
       "       0.17546737, 0.14622281, 0.17546737, 0.17546737, 0.17546737,\n",
       "       0.1403739 , 0.14622281, 0.1403739 , 0.17546737, 0.17546737,\n",
       "       0.08422434, 0.10444486, 0.1403739 , 0.08422434, 0.17546737,\n",
       "       0.14622281, 0.14622281, 0.17546737, 0.03626558, 0.1403739 ,\n",
       "       0.08422434, 0.17546737, 0.17546737, 0.1403739 , 0.14622281,\n",
       "       0.01813279, 0.17546737, 0.06527804, 0.08422434, 0.00343424,\n",
       "       0.03626558, 0.1403739 , 0.14622281, 0.10444486, 0.06527804,\n",
       "       0.17546737, 0.06527804, 0.08422434, 0.06527804, 0.1403739 ,\n",
       "       0.17546737, 0.17546737, 0.06527804, 0.06527804, 0.17546737,\n",
       "       0.17546737, 0.00824218, 0.08422434, 0.06527804, 0.14622281,\n",
       "       0.00824218, 0.17546737, 0.1403739 , 0.1403739 , 0.14622281,\n",
       "       0.1403739 , 0.03368973, 0.17546737, 0.1403739 , 0.00824218,\n",
       "       0.17546737, 0.17546737, 0.1403739 , 0.17546737, 0.1403739 ,\n",
       "       0.17546737, 0.14622281, 0.00824218, 0.14622281, 0.14622281,\n",
       "       0.1403739 , 0.14622281, 0.08422434, 0.17546737, 0.17546737,\n",
       "       0.10444486, 0.10444486, 0.1403739 , 0.17546737, 0.17546737,\n",
       "       0.17546737, 0.08422434, 0.00673795, 0.03368973, 0.17546737,\n",
       "       0.14622281, 0.17546737, 0.17546737, 0.14622281, 0.17546737,\n",
       "       0.1403739 , 0.1403739 , 0.17546737, 0.08422434, 0.00824218,\n",
       "       0.10444486, 0.17546737, 0.17546737, 0.06527804, 0.14622281,\n",
       "       0.14622281, 0.1403739 , 0.08422434, 0.17546737, 0.17546737,\n",
       "       0.10444486, 0.08422434, 0.14622281, 0.17546737, 0.17546737,\n",
       "       0.14622281, 0.14622281, 0.00673795, 0.17546737, 0.08422434,\n",
       "       0.17546737, 0.08422434, 0.17546737, 0.03368973, 0.17546737,\n",
       "       0.17546737, 0.03368973, 0.17546737, 0.14622281, 0.17546737,\n",
       "       0.14622281, 0.14622281, 0.17546737, 0.14622281, 0.1403739 ,\n",
       "       0.1403739 , 0.10444486, 0.14622281, 0.14622281, 0.06527804,\n",
       "       0.14622281, 0.17546737, 0.14622281, 0.17546737, 0.00343424,\n",
       "       0.17546737, 0.08422434, 0.1403739 , 0.08422434, 0.17546737,\n",
       "       0.08422434, 0.17546737, 0.14622281, 0.03626558, 0.17546737,\n",
       "       0.08422434, 0.17546737, 0.17546737, 0.00824218, 0.08422434,\n",
       "       0.14622281, 0.14622281, 0.06527804, 0.06527804, 0.1403739 ,\n",
       "       0.06527804, 0.10444486, 0.17546737, 0.1403739 , 0.08422434,\n",
       "       0.08422434, 0.01813279, 0.17546737, 0.17546737, 0.08422434,\n",
       "       0.17546737, 0.03368973, 0.17546737, 0.1403739 , 0.17546737,\n",
       "       0.14622281, 0.17546737, 0.14622281, 0.1403739 , 0.17546737,\n",
       "       0.17546737, 0.17546737, 0.14622281, 0.1403739 , 0.10444486,\n",
       "       0.17546737, 0.17546737, 0.17546737, 0.1403739 , 0.10444486,\n",
       "       0.1403739 , 0.14622281, 0.03626558, 0.17546737, 0.17546737,\n",
       "       0.1403739 , 0.17546737, 0.00673795, 0.1403739 , 0.17546737,\n",
       "       0.14622281, 0.14622281, 0.06527804, 0.10444486, 0.03626558,\n",
       "       0.10444486, 0.10444486, 0.06527804, 0.06527804, 0.08422434,\n",
       "       0.17546737, 0.08422434, 0.17546737, 0.14622281, 0.1403739 ,\n",
       "       0.17546737, 0.1403739 , 0.08422434, 0.08422434, 0.17546737,\n",
       "       0.17546737, 0.06527804, 0.17546737, 0.1403739 , 0.17546737,\n",
       "       0.14622281, 0.08422434, 0.06527804, 0.14622281, 0.1403739 ,\n",
       "       0.06527804, 0.17546737, 0.17546737, 0.17546737, 0.1403739 ,\n",
       "       0.06527804, 0.17546737, 0.06527804, 0.1403739 , 0.17546737,\n",
       "       0.14622281, 0.03626558, 0.06527804, 0.17546737, 0.14622281,\n",
       "       0.17546737, 0.1403739 , 0.14622281, 0.1403739 , 0.03626558,\n",
       "       0.10444486, 0.08422434, 0.03626558, 0.08422434, 0.03368973,\n",
       "       0.14622281, 0.14622281, 0.17546737, 0.08422434, 0.14622281,\n",
       "       0.17546737, 0.17546737, 0.14622281, 0.06527804, 0.03626558,\n",
       "       0.06527804, 0.17546737, 0.17546737, 0.17546737, 0.17546737,\n",
       "       0.06527804, 0.17546737, 0.03626558, 0.06527804, 0.17546737,\n",
       "       0.10444486, 0.17546737, 0.17546737, 0.03368973, 0.17546737,\n",
       "       0.17546737, 0.17546737, 0.01813279, 0.1403739 , 0.1403739 ,\n",
       "       0.10444486, 0.06527804, 0.06527804, 0.1403739 , 0.17546737,\n",
       "       0.17546737, 0.17546737, 0.08422434, 0.14622281, 0.17546737,\n",
       "       0.10444486, 0.14622281, 0.17546737, 0.10444486, 0.08422434,\n",
       "       0.17546737, 0.17546737, 0.10444486, 0.17546737, 0.1403739 ,\n",
       "       0.14622281, 0.14622281, 0.17546737, 0.17546737, 0.17546737,\n",
       "       0.14622281, 0.17546737, 0.17546737, 0.17546737, 0.17546737,\n",
       "       0.17546737, 0.17546737, 0.17546737, 0.1403739 , 0.08422434,\n",
       "       0.06527804, 0.17546737, 0.1403739 , 0.08422434, 0.17546737,\n",
       "       0.10444486, 0.17546737, 0.17546737, 0.06527804, 0.10444486,\n",
       "       0.17546737, 0.1403739 , 0.17546737, 0.17546737, 0.10444486,\n",
       "       0.14622281, 0.10444486, 0.08422434, 0.14622281, 0.17546737,\n",
       "       0.14622281, 0.10444486, 0.17546737, 0.1403739 , 0.10444486,\n",
       "       0.17546737, 0.10444486, 0.03368973, 0.06527804, 0.17546737,\n",
       "       0.17546737, 0.1403739 , 0.1403739 , 0.17546737, 0.1403739 ,\n",
       "       0.1403739 , 0.17546737, 0.17546737, 0.06527804, 0.1403739 ,\n",
       "       0.17546737, 0.14622281, 0.17546737, 0.14622281, 0.01813279,\n",
       "       0.03626558, 0.08422434, 0.10444486, 0.17546737, 0.14622281,\n",
       "       0.17546737, 0.10444486, 0.1403739 , 0.17546737, 0.10444486,\n",
       "       0.1403739 , 0.17546737, 0.06527804, 0.08422434, 0.17546737,\n",
       "       0.01813279, 0.06527804, 0.10444486, 0.17546737, 0.10444486,\n",
       "       0.17546737, 0.1403739 , 0.01813279, 0.1403739 , 0.17546737,\n",
       "       0.1403739 , 0.14622281, 0.03626558, 0.17546737, 0.17546737,\n",
       "       0.10444486, 0.10444486, 0.03368973, 0.17546737, 0.08422434,\n",
       "       0.1403739 , 0.14622281, 0.17546737, 0.08422434, 0.06527804,\n",
       "       0.14622281, 0.17546737, 0.1403739 , 0.1403739 , 0.17546737,\n",
       "       0.14622281, 0.17546737, 0.17546737, 0.1403739 , 0.17546737,\n",
       "       0.06527804, 0.17546737, 0.06527804, 0.06527804, 0.03368973,\n",
       "       0.06527804, 0.1403739 , 0.01813279, 0.10444486, 0.17546737,\n",
       "       0.03368973, 0.17546737, 0.08422434, 0.1403739 , 0.14622281,\n",
       "       0.14622281, 0.17546737, 0.1403739 , 0.06527804, 0.17546737,\n",
       "       0.17546737, 0.08422434, 0.1403739 , 0.03626558, 0.17546737,\n",
       "       0.14622281, 0.17546737, 0.17546737, 0.1403739 , 0.01813279,\n",
       "       0.17546737, 0.14622281, 0.10444486, 0.17546737, 0.14622281,\n",
       "       0.03368973, 0.17546737, 0.14622281, 0.1403739 , 0.1403739 ,\n",
       "       0.10444486, 0.14622281, 0.08422434, 0.1403739 , 0.10444486,\n",
       "       0.03626558, 0.17546737, 0.17546737, 0.17546737, 0.17546737,\n",
       "       0.14622281, 0.17546737, 0.14622281, 0.17546737, 0.17546737,\n",
       "       0.17546737, 0.17546737, 0.17546737, 0.17546737, 0.01813279,\n",
       "       0.17546737, 0.17546737, 0.06527804, 0.17546737, 0.03368973,\n",
       "       0.14622281, 0.1403739 , 0.1403739 , 0.14622281, 0.14622281,\n",
       "       0.17546737, 0.10444486, 0.14622281, 0.1403739 , 0.17546737,\n",
       "       0.17546737, 0.17546737, 0.10444486, 0.17546737, 0.08422434,\n",
       "       0.06527804, 0.14622281, 0.17546737, 0.06527804, 0.1403739 ,\n",
       "       0.1403739 , 0.01813279, 0.1403739 , 0.14622281, 0.03626558,\n",
       "       0.17546737, 0.1403739 , 0.08422434, 0.17546737, 0.17546737,\n",
       "       0.1403739 , 0.17546737, 0.17546737, 0.17546737, 0.17546737,\n",
       "       0.08422434, 0.14622281, 0.17546737, 0.14622281, 0.03626558,\n",
       "       0.1403739 , 0.1403739 , 0.17546737, 0.08422434, 0.14622281,\n",
       "       0.06527804, 0.17546737, 0.17546737, 0.10444486, 0.14622281,\n",
       "       0.03626558, 0.17546737, 0.17546737, 0.14622281, 0.17546737,\n",
       "       0.1403739 , 0.10444486, 0.17546737, 0.08422434, 0.1403739 ,\n",
       "       0.1403739 , 0.03368973, 0.10444486, 0.08422434, 0.17546737,\n",
       "       0.1403739 , 0.14622281, 0.1403739 , 0.14622281, 0.08422434,\n",
       "       0.17546737, 0.1403739 , 0.1403739 , 0.10444486, 0.03368973,\n",
       "       0.17546737, 0.14622281, 0.06527804, 0.10444486, 0.08422434,\n",
       "       0.08422434, 0.17546737, 0.17546737, 0.10444486, 0.14622281,\n",
       "       0.1403739 , 0.10444486, 0.17546737, 0.14622281, 0.1403739 ,\n",
       "       0.10444486, 0.06527804, 0.1403739 , 0.14622281, 0.10444486,\n",
       "       0.03368973, 0.06527804, 0.17546737, 0.14622281, 0.17546737,\n",
       "       0.10444486, 0.17546737, 0.17546737, 0.03368973, 0.17546737,\n",
       "       0.1403739 , 0.14622281, 0.14622281, 0.10444486, 0.03626558,\n",
       "       0.06527804, 0.1403739 , 0.08422434, 0.17546737, 0.00343424,\n",
       "       0.17546737, 0.14622281, 0.1403739 , 0.17546737, 0.00343424,\n",
       "       0.14622281, 0.10444486, 0.08422434, 0.03626558, 0.10444486,\n",
       "       0.17546737, 0.06527804, 0.17546737, 0.08422434, 0.10444486,\n",
       "       0.17546737, 0.10444486, 0.14622281, 0.1403739 , 0.17546737,\n",
       "       0.1403739 , 0.17546737, 0.08422434, 0.1403739 , 0.17546737,\n",
       "       0.00824218, 0.14622281, 0.17546737, 0.14622281, 0.17546737,\n",
       "       0.10444486, 0.1403739 , 0.17546737, 0.14622281, 0.00343424,\n",
       "       0.17546737, 0.17546737, 0.1403739 , 0.03368973, 0.17546737,\n",
       "       0.17546737, 0.08422434, 0.06527804, 0.06527804, 0.1403739 ,\n",
       "       0.17546737, 0.10444486, 0.06527804, 0.17546737, 0.17546737,\n",
       "       0.17546737, 0.08422434, 0.03626558, 0.10444486, 0.14622281,\n",
       "       0.17546737, 0.14622281, 0.17546737, 0.08422434, 0.17546737,\n",
       "       0.00343424, 0.03626558, 0.03368973, 0.03626558, 0.14622281,\n",
       "       0.1403739 , 0.08422434, 0.1403739 , 0.14622281, 0.1403739 ,\n",
       "       0.14622281, 0.10444486, 0.17546737, 0.17546737, 0.08422434,\n",
       "       0.1403739 , 0.08422434, 0.17546737, 0.14622281, 0.1403739 ,\n",
       "       0.08422434, 0.14622281, 0.06527804, 0.03626558, 0.08422434,\n",
       "       0.1403739 , 0.17546737, 0.08422434, 0.14622281, 0.14622281,\n",
       "       0.17546737, 0.10444486, 0.17546737, 0.10444486, 0.17546737,\n",
       "       0.14622281, 0.14622281, 0.08422434, 0.1403739 , 0.17546737,\n",
       "       0.1403739 , 0.00343424, 0.08422434, 0.14622281, 0.17546737,\n",
       "       0.1403739 , 0.17546737, 0.1403739 , 0.17546737, 0.17546737,\n",
       "       0.17546737, 0.17546737, 0.17546737, 0.14622281, 0.10444486,\n",
       "       0.1403739 , 0.17546737, 0.08422434, 0.00673795, 0.17546737,\n",
       "       0.17546737, 0.14622281, 0.1403739 , 0.17546737, 0.14622281,\n",
       "       0.17546737, 0.08422434, 0.14622281, 0.14622281, 0.08422434,\n",
       "       0.17546737, 0.06527804, 0.1403739 , 0.17546737, 0.10444486,\n",
       "       0.17546737, 0.14622281, 0.10444486, 0.17546737, 0.1403739 ,\n",
       "       0.17546737, 0.17546737, 0.14622281, 0.1403739 , 0.17546737,\n",
       "       0.14622281, 0.17546737, 0.10444486, 0.17546737, 0.10444486,\n",
       "       0.10444486, 0.03626558, 0.03368973, 0.17546737, 0.14622281,\n",
       "       0.14622281, 0.17546737, 0.14622281, 0.14622281, 0.01813279,\n",
       "       0.00343424, 0.17546737, 0.08422434, 0.10444486, 0.1403739 ,\n",
       "       0.17546737, 0.1403739 , 0.17546737, 0.03626558, 0.17546737,\n",
       "       0.17546737, 0.17546737, 0.14622281, 0.1403739 , 0.06527804,\n",
       "       0.00673795, 0.17546737, 0.08422434, 0.14622281, 0.17546737,\n",
       "       0.1403739 , 0.17546737, 0.17546737, 0.17546737, 0.14622281,\n",
       "       0.17546737, 0.17546737, 0.14622281, 0.14622281, 0.17546737,\n",
       "       0.14622281, 0.00824218, 0.14622281, 0.1403739 , 0.1403739 ,\n",
       "       0.1403739 , 0.14622281, 0.17546737, 0.14622281, 0.03368973,\n",
       "       0.1403739 , 0.17546737, 0.17546737, 0.10444486, 0.14622281,\n",
       "       0.17546737, 0.14622281, 0.1403739 , 0.17546737, 0.17546737,\n",
       "       0.06527804, 0.17546737, 0.14622281, 0.10444486, 0.17546737,\n",
       "       0.17546737, 0.1403739 , 0.17546737, 0.14622281, 0.08422434])"
      ]
     },
     "execution_count": 302,
     "metadata": {},
     "output_type": "execute_result"
    }
   ],
   "source": [
    "pois_values = []\n",
    "for i in range (0,len(pois)):\n",
    "    poisson = (lamb**(int(pois[i]))*math.exp(-lamb))/(math.factorial(int(pois[i])))\n",
    "    pois_values.append(poisson)\n",
    "    i+=1\n",
    "np.transpose(pois_values)"
   ]
  },
  {
   "cell_type": "markdown",
   "metadata": {},
   "source": [
    "# Геометрическое"
   ]
  },
  {
   "cell_type": "code",
   "execution_count": 303,
   "metadata": {},
   "outputs": [
    {
     "data": {
      "text/plain": [
       "array([4, 9, 9, 8, 3, 0, 7, 5, 1, 2, 1, 4, 7, 8, 2, 0, 3, 7, 2, 2, 1, 5,\n",
       "       7, 5, 3, 4, 8, 6, 7, 1, 3, 3, 6, 2, 0, 6, 8, 1, 4, 9, 6, 6, 1, 3,\n",
       "       9, 2, 5, 2, 1, 1, 8, 2, 2, 3, 0, 1, 7, 1, 2, 3, 4, 8, 7, 3, 6, 7,\n",
       "       5, 7, 5, 0, 2, 4, 4, 2, 6, 5, 0, 2, 5, 8, 9, 6, 1, 6, 5, 5, 8, 1,\n",
       "       9, 1, 2, 5, 3, 5, 5, 7, 9, 3, 3, 3, 3, 7, 3, 7, 2, 3, 9, 0, 4, 8,\n",
       "       8, 7, 9, 9, 2, 5, 4, 1, 1, 7, 4, 6, 4, 6, 1, 0, 1, 1, 3, 5, 4, 6,\n",
       "       6, 9, 3, 8, 8, 8, 6, 8, 8, 2, 8, 0, 8, 4, 4, 6, 1, 3, 0, 4, 5, 0,\n",
       "       4, 8, 0, 6, 4, 0, 1, 9, 6, 9, 4, 3, 6, 8, 4, 8, 4, 9, 4, 2, 1, 3,\n",
       "       4, 5, 1, 4, 2, 6, 8, 8, 3, 2, 7, 2, 9, 6, 4, 4, 6, 3, 4, 8, 9, 4,\n",
       "       3, 1, 1, 4, 5, 8, 9, 8, 3, 8, 9, 2, 8, 3, 3, 0, 5, 7, 5, 8, 3, 5,\n",
       "       0, 6, 3, 9, 4, 7, 1, 6, 8, 4, 6, 8, 0, 0, 0, 0, 4, 4, 0, 4, 1, 3,\n",
       "       8, 0, 7, 1, 7, 0, 4, 0, 4, 8, 5, 2, 4, 2, 1, 3, 2, 6, 9, 4, 4, 0,\n",
       "       3, 0, 6, 2, 6, 0, 4, 9, 3, 6, 0, 7, 0, 4, 3, 1, 6, 4, 9, 8, 4, 7,\n",
       "       9, 9, 5, 4, 9, 9, 7, 8, 6, 0, 5, 0, 6, 0, 9, 4, 7, 8, 8, 5, 8, 3,\n",
       "       2, 0, 8, 3, 0, 9, 1, 7, 0, 0, 9, 7, 6, 0, 7, 9, 9, 9, 4, 4, 4, 7,\n",
       "       9, 0, 7, 8, 5, 3, 2, 5, 5, 9, 0, 2, 9, 0, 2, 8, 4, 6, 5, 9, 8, 8,\n",
       "       1, 6, 0, 6, 4, 1, 2, 1, 7, 0, 3, 5, 4, 1, 1, 9, 0, 1, 6, 9, 9, 5,\n",
       "       8, 1, 8, 5, 2, 8, 9, 8, 9, 3, 6, 0, 5, 9, 3, 5, 1, 6, 5, 3, 7, 6,\n",
       "       7, 3, 9, 4, 4, 5, 5, 9, 5, 7, 1, 0, 1, 1, 4, 5, 8, 0, 0, 6, 5, 6,\n",
       "       2, 3, 4, 3, 8, 5, 8, 1, 9, 5, 4, 8, 9, 6, 5, 0, 9, 7, 9, 2, 2, 3,\n",
       "       4, 9, 1, 0, 4, 6, 7, 7, 3, 9, 9, 5, 4, 8, 8, 5, 3, 3, 7, 3, 6, 3,\n",
       "       4, 9, 5, 3, 2, 1, 5, 9, 0, 7, 4, 0, 1, 6, 0, 7, 4, 6, 9, 8, 7, 4,\n",
       "       4, 9, 4, 9, 3, 7, 1, 1, 4, 4, 6, 0, 1, 4, 8, 8, 0, 4, 3, 1, 7, 9,\n",
       "       1, 7, 2, 1, 5, 3, 6, 1, 5, 7, 0, 8, 2, 2, 4, 7, 7, 5, 5, 1, 5, 3,\n",
       "       3, 1, 4, 8, 5, 7, 1, 9, 4, 0, 9, 7, 0, 8, 2, 0, 3, 8, 7, 1, 0, 8,\n",
       "       5, 8, 7, 4, 6, 4, 1, 7, 0, 1, 2, 8, 3, 8, 1, 5, 1, 6, 5, 8, 9, 2,\n",
       "       8, 1, 1, 0, 1, 4, 8, 7, 6, 7, 4, 6, 2, 1, 3, 0, 1, 9, 3, 4, 0, 8,\n",
       "       5, 4, 5, 6, 0, 9, 5, 8, 1, 3, 2, 0, 0, 0, 2, 3, 1, 5, 1, 7, 6, 3,\n",
       "       1, 9, 7, 4, 9, 1, 4, 7, 3, 1, 2, 4, 3, 5, 2, 4, 8, 6, 8, 0, 9, 6,\n",
       "       3, 5, 0, 5, 1, 6, 9, 9, 9, 1, 6, 6, 1, 9, 3, 5, 3, 0, 2, 1, 4, 3,\n",
       "       7, 3, 9, 2, 6, 2, 9, 3, 2, 8, 2, 0, 1, 4, 0, 7, 0, 6, 2, 3, 8, 0,\n",
       "       8, 2, 3, 6, 3, 6, 7, 1, 0, 4, 0, 5, 2, 7, 3, 7, 9, 0, 4, 4, 8, 2,\n",
       "       7, 6, 0, 3, 3, 9, 0, 5, 7, 0, 6, 5, 4, 2, 7, 7, 9, 7, 5, 5, 7, 4,\n",
       "       3, 5, 5, 5, 4, 5, 8, 7, 0, 3, 0, 1, 2, 2, 2, 1, 6, 9, 1, 1, 0, 5,\n",
       "       5, 3, 5, 6, 0, 5, 9, 2, 7, 9, 2, 7, 1, 8, 5, 9, 7, 9, 2, 7, 6, 0,\n",
       "       3, 6, 5, 1, 0, 5, 7, 2, 5, 2, 6, 6, 0, 1, 8, 2, 8, 7, 4, 7, 5, 2,\n",
       "       7, 6, 3, 7, 6, 2, 3, 7, 4, 2, 3, 0, 1, 0, 2, 2, 4, 5, 8, 0, 3, 0,\n",
       "       4, 7, 7, 2, 6, 6, 0, 4, 3, 5, 4, 5, 5, 2, 4, 9, 2, 9, 4, 4, 2, 1,\n",
       "       7, 5, 3, 4, 4, 8, 3, 0, 9, 0, 9, 1, 1, 1, 2, 7, 7, 3, 5, 5, 2, 0,\n",
       "       9, 4, 1, 1, 5, 3, 8, 3, 4, 6, 3, 3, 6, 4, 2, 5, 2, 5, 7, 0, 0, 8,\n",
       "       5, 5, 6, 8, 6, 8, 6, 6, 9, 6, 6, 0, 1, 2, 1, 2, 8, 8, 9, 5, 4, 2,\n",
       "       8, 9, 8, 7, 2, 1, 5, 4, 7, 5, 2, 2, 9, 8, 8, 5, 1, 8, 2, 4, 8, 8,\n",
       "       5, 0, 0, 1, 8, 3, 3, 9, 6, 9, 4, 3, 4, 6, 4, 1, 3, 7, 2, 2, 4, 5,\n",
       "       7, 5, 3, 7, 6, 7, 2, 6, 9, 7, 9, 9, 9, 1, 9, 5, 9, 4, 6, 5, 0, 6,\n",
       "       1, 8, 1, 7, 3, 7, 5, 5, 7, 2, 4, 0, 6, 9, 7, 6, 8, 6, 3, 7, 7, 7,\n",
       "       4, 7, 8, 7, 3, 9, 6, 0, 6, 7])"
      ]
     },
     "execution_count": 303,
     "metadata": {},
     "output_type": "execute_result"
    }
   ],
   "source": [
    "p = 0.3\n",
    "q = 1-p\n",
    "geom = np.random.randint(0,10, size = 1000)\n",
    "geom"
   ]
  },
  {
   "cell_type": "code",
   "execution_count": 304,
   "metadata": {},
   "outputs": [
    {
     "data": {
      "text/plain": [
       "array([0.07203   , 0.01210608, 0.01210608, 0.0172944 , 0.1029    ,\n",
       "       0.3       , 0.02470629, 0.050421  , 0.21      , 0.147     ,\n",
       "       0.21      , 0.07203   , 0.02470629, 0.0172944 , 0.147     ,\n",
       "       0.3       , 0.1029    , 0.02470629, 0.147     , 0.147     ,\n",
       "       0.21      , 0.050421  , 0.02470629, 0.050421  , 0.1029    ,\n",
       "       0.07203   , 0.0172944 , 0.0352947 , 0.02470629, 0.21      ,\n",
       "       0.1029    , 0.1029    , 0.0352947 , 0.147     , 0.3       ,\n",
       "       0.0352947 , 0.0172944 , 0.21      , 0.07203   , 0.01210608,\n",
       "       0.0352947 , 0.0352947 , 0.21      , 0.1029    , 0.01210608,\n",
       "       0.147     , 0.050421  , 0.147     , 0.21      , 0.21      ,\n",
       "       0.0172944 , 0.147     , 0.147     , 0.1029    , 0.3       ,\n",
       "       0.21      , 0.02470629, 0.21      , 0.147     , 0.1029    ,\n",
       "       0.07203   , 0.0172944 , 0.02470629, 0.1029    , 0.0352947 ,\n",
       "       0.02470629, 0.050421  , 0.02470629, 0.050421  , 0.3       ,\n",
       "       0.147     , 0.07203   , 0.07203   , 0.147     , 0.0352947 ,\n",
       "       0.050421  , 0.3       , 0.147     , 0.050421  , 0.0172944 ,\n",
       "       0.01210608, 0.0352947 , 0.21      , 0.0352947 , 0.050421  ,\n",
       "       0.050421  , 0.0172944 , 0.21      , 0.01210608, 0.21      ,\n",
       "       0.147     , 0.050421  , 0.1029    , 0.050421  , 0.050421  ,\n",
       "       0.02470629, 0.01210608, 0.1029    , 0.1029    , 0.1029    ,\n",
       "       0.1029    , 0.02470629, 0.1029    , 0.02470629, 0.147     ,\n",
       "       0.1029    , 0.01210608, 0.3       , 0.07203   , 0.0172944 ,\n",
       "       0.0172944 , 0.02470629, 0.01210608, 0.01210608, 0.147     ,\n",
       "       0.050421  , 0.07203   , 0.21      , 0.21      , 0.02470629,\n",
       "       0.07203   , 0.0352947 , 0.07203   , 0.0352947 , 0.21      ,\n",
       "       0.3       , 0.21      , 0.21      , 0.1029    , 0.050421  ,\n",
       "       0.07203   , 0.0352947 , 0.0352947 , 0.01210608, 0.1029    ,\n",
       "       0.0172944 , 0.0172944 , 0.0172944 , 0.0352947 , 0.0172944 ,\n",
       "       0.0172944 , 0.147     , 0.0172944 , 0.3       , 0.0172944 ,\n",
       "       0.07203   , 0.07203   , 0.0352947 , 0.21      , 0.1029    ,\n",
       "       0.3       , 0.07203   , 0.050421  , 0.3       , 0.07203   ,\n",
       "       0.0172944 , 0.3       , 0.0352947 , 0.07203   , 0.3       ,\n",
       "       0.21      , 0.01210608, 0.0352947 , 0.01210608, 0.07203   ,\n",
       "       0.1029    , 0.0352947 , 0.0172944 , 0.07203   , 0.0172944 ,\n",
       "       0.07203   , 0.01210608, 0.07203   , 0.147     , 0.21      ,\n",
       "       0.1029    , 0.07203   , 0.050421  , 0.21      , 0.07203   ,\n",
       "       0.147     , 0.0352947 , 0.0172944 , 0.0172944 , 0.1029    ,\n",
       "       0.147     , 0.02470629, 0.147     , 0.01210608, 0.0352947 ,\n",
       "       0.07203   , 0.07203   , 0.0352947 , 0.1029    , 0.07203   ,\n",
       "       0.0172944 , 0.01210608, 0.07203   , 0.1029    , 0.21      ,\n",
       "       0.21      , 0.07203   , 0.050421  , 0.0172944 , 0.01210608,\n",
       "       0.0172944 , 0.1029    , 0.0172944 , 0.01210608, 0.147     ,\n",
       "       0.0172944 , 0.1029    , 0.1029    , 0.3       , 0.050421  ,\n",
       "       0.02470629, 0.050421  , 0.0172944 , 0.1029    , 0.050421  ,\n",
       "       0.3       , 0.0352947 , 0.1029    , 0.01210608, 0.07203   ,\n",
       "       0.02470629, 0.21      , 0.0352947 , 0.0172944 , 0.07203   ,\n",
       "       0.0352947 , 0.0172944 , 0.3       , 0.3       , 0.3       ,\n",
       "       0.3       , 0.07203   , 0.07203   , 0.3       , 0.07203   ,\n",
       "       0.21      , 0.1029    , 0.0172944 , 0.3       , 0.02470629,\n",
       "       0.21      , 0.02470629, 0.3       , 0.07203   , 0.3       ,\n",
       "       0.07203   , 0.0172944 , 0.050421  , 0.147     , 0.07203   ,\n",
       "       0.147     , 0.21      , 0.1029    , 0.147     , 0.0352947 ,\n",
       "       0.01210608, 0.07203   , 0.07203   , 0.3       , 0.1029    ,\n",
       "       0.3       , 0.0352947 , 0.147     , 0.0352947 , 0.3       ,\n",
       "       0.07203   , 0.01210608, 0.1029    , 0.0352947 , 0.3       ,\n",
       "       0.02470629, 0.3       , 0.07203   , 0.1029    , 0.21      ,\n",
       "       0.0352947 , 0.07203   , 0.01210608, 0.0172944 , 0.07203   ,\n",
       "       0.02470629, 0.01210608, 0.01210608, 0.050421  , 0.07203   ,\n",
       "       0.01210608, 0.01210608, 0.02470629, 0.0172944 , 0.0352947 ,\n",
       "       0.3       , 0.050421  , 0.3       , 0.0352947 , 0.3       ,\n",
       "       0.01210608, 0.07203   , 0.02470629, 0.0172944 , 0.0172944 ,\n",
       "       0.050421  , 0.0172944 , 0.1029    , 0.147     , 0.3       ,\n",
       "       0.0172944 , 0.1029    , 0.3       , 0.01210608, 0.21      ,\n",
       "       0.02470629, 0.3       , 0.3       , 0.01210608, 0.02470629,\n",
       "       0.0352947 , 0.3       , 0.02470629, 0.01210608, 0.01210608,\n",
       "       0.01210608, 0.07203   , 0.07203   , 0.07203   , 0.02470629,\n",
       "       0.01210608, 0.3       , 0.02470629, 0.0172944 , 0.050421  ,\n",
       "       0.1029    , 0.147     , 0.050421  , 0.050421  , 0.01210608,\n",
       "       0.3       , 0.147     , 0.01210608, 0.3       , 0.147     ,\n",
       "       0.0172944 , 0.07203   , 0.0352947 , 0.050421  , 0.01210608,\n",
       "       0.0172944 , 0.0172944 , 0.21      , 0.0352947 , 0.3       ,\n",
       "       0.0352947 , 0.07203   , 0.21      , 0.147     , 0.21      ,\n",
       "       0.02470629, 0.3       , 0.1029    , 0.050421  , 0.07203   ,\n",
       "       0.21      , 0.21      , 0.01210608, 0.3       , 0.21      ,\n",
       "       0.0352947 , 0.01210608, 0.01210608, 0.050421  , 0.0172944 ,\n",
       "       0.21      , 0.0172944 , 0.050421  , 0.147     , 0.0172944 ,\n",
       "       0.01210608, 0.0172944 , 0.01210608, 0.1029    , 0.0352947 ,\n",
       "       0.3       , 0.050421  , 0.01210608, 0.1029    , 0.050421  ,\n",
       "       0.21      , 0.0352947 , 0.050421  , 0.1029    , 0.02470629,\n",
       "       0.0352947 , 0.02470629, 0.1029    , 0.01210608, 0.07203   ,\n",
       "       0.07203   , 0.050421  , 0.050421  , 0.01210608, 0.050421  ,\n",
       "       0.02470629, 0.21      , 0.3       , 0.21      , 0.21      ,\n",
       "       0.07203   , 0.050421  , 0.0172944 , 0.3       , 0.3       ,\n",
       "       0.0352947 , 0.050421  , 0.0352947 , 0.147     , 0.1029    ,\n",
       "       0.07203   , 0.1029    , 0.0172944 , 0.050421  , 0.0172944 ,\n",
       "       0.21      , 0.01210608, 0.050421  , 0.07203   , 0.0172944 ,\n",
       "       0.01210608, 0.0352947 , 0.050421  , 0.3       , 0.01210608,\n",
       "       0.02470629, 0.01210608, 0.147     , 0.147     , 0.1029    ,\n",
       "       0.07203   , 0.01210608, 0.21      , 0.3       , 0.07203   ,\n",
       "       0.0352947 , 0.02470629, 0.02470629, 0.1029    , 0.01210608,\n",
       "       0.01210608, 0.050421  , 0.07203   , 0.0172944 , 0.0172944 ,\n",
       "       0.050421  , 0.1029    , 0.1029    , 0.02470629, 0.1029    ,\n",
       "       0.0352947 , 0.1029    , 0.07203   , 0.01210608, 0.050421  ,\n",
       "       0.1029    , 0.147     , 0.21      , 0.050421  , 0.01210608,\n",
       "       0.3       , 0.02470629, 0.07203   , 0.3       , 0.21      ,\n",
       "       0.0352947 , 0.3       , 0.02470629, 0.07203   , 0.0352947 ,\n",
       "       0.01210608, 0.0172944 , 0.02470629, 0.07203   , 0.07203   ,\n",
       "       0.01210608, 0.07203   , 0.01210608, 0.1029    , 0.02470629,\n",
       "       0.21      , 0.21      , 0.07203   , 0.07203   , 0.0352947 ,\n",
       "       0.3       , 0.21      , 0.07203   , 0.0172944 , 0.0172944 ,\n",
       "       0.3       , 0.07203   , 0.1029    , 0.21      , 0.02470629,\n",
       "       0.01210608, 0.21      , 0.02470629, 0.147     , 0.21      ,\n",
       "       0.050421  , 0.1029    , 0.0352947 , 0.21      , 0.050421  ,\n",
       "       0.02470629, 0.3       , 0.0172944 , 0.147     , 0.147     ,\n",
       "       0.07203   , 0.02470629, 0.02470629, 0.050421  , 0.050421  ,\n",
       "       0.21      , 0.050421  , 0.1029    , 0.1029    , 0.21      ,\n",
       "       0.07203   , 0.0172944 , 0.050421  , 0.02470629, 0.21      ,\n",
       "       0.01210608, 0.07203   , 0.3       , 0.01210608, 0.02470629,\n",
       "       0.3       , 0.0172944 , 0.147     , 0.3       , 0.1029    ,\n",
       "       0.0172944 , 0.02470629, 0.21      , 0.3       , 0.0172944 ,\n",
       "       0.050421  , 0.0172944 , 0.02470629, 0.07203   , 0.0352947 ,\n",
       "       0.07203   , 0.21      , 0.02470629, 0.3       , 0.21      ,\n",
       "       0.147     , 0.0172944 , 0.1029    , 0.0172944 , 0.21      ,\n",
       "       0.050421  , 0.21      , 0.0352947 , 0.050421  , 0.0172944 ,\n",
       "       0.01210608, 0.147     , 0.0172944 , 0.21      , 0.21      ,\n",
       "       0.3       , 0.21      , 0.07203   , 0.0172944 , 0.02470629,\n",
       "       0.0352947 , 0.02470629, 0.07203   , 0.0352947 , 0.147     ,\n",
       "       0.21      , 0.1029    , 0.3       , 0.21      , 0.01210608,\n",
       "       0.1029    , 0.07203   , 0.3       , 0.0172944 , 0.050421  ,\n",
       "       0.07203   , 0.050421  , 0.0352947 , 0.3       , 0.01210608,\n",
       "       0.050421  , 0.0172944 , 0.21      , 0.1029    , 0.147     ,\n",
       "       0.3       , 0.3       , 0.3       , 0.147     , 0.1029    ,\n",
       "       0.21      , 0.050421  , 0.21      , 0.02470629, 0.0352947 ,\n",
       "       0.1029    , 0.21      , 0.01210608, 0.02470629, 0.07203   ,\n",
       "       0.01210608, 0.21      , 0.07203   , 0.02470629, 0.1029    ,\n",
       "       0.21      , 0.147     , 0.07203   , 0.1029    , 0.050421  ,\n",
       "       0.147     , 0.07203   , 0.0172944 , 0.0352947 , 0.0172944 ,\n",
       "       0.3       , 0.01210608, 0.0352947 , 0.1029    , 0.050421  ,\n",
       "       0.3       , 0.050421  , 0.21      , 0.0352947 , 0.01210608,\n",
       "       0.01210608, 0.01210608, 0.21      , 0.0352947 , 0.0352947 ,\n",
       "       0.21      , 0.01210608, 0.1029    , 0.050421  , 0.1029    ,\n",
       "       0.3       , 0.147     , 0.21      , 0.07203   , 0.1029    ,\n",
       "       0.02470629, 0.1029    , 0.01210608, 0.147     , 0.0352947 ,\n",
       "       0.147     , 0.01210608, 0.1029    , 0.147     , 0.0172944 ,\n",
       "       0.147     , 0.3       , 0.21      , 0.07203   , 0.3       ,\n",
       "       0.02470629, 0.3       , 0.0352947 , 0.147     , 0.1029    ,\n",
       "       0.0172944 , 0.3       , 0.0172944 , 0.147     , 0.1029    ,\n",
       "       0.0352947 , 0.1029    , 0.0352947 , 0.02470629, 0.21      ,\n",
       "       0.3       , 0.07203   , 0.3       , 0.050421  , 0.147     ,\n",
       "       0.02470629, 0.1029    , 0.02470629, 0.01210608, 0.3       ,\n",
       "       0.07203   , 0.07203   , 0.0172944 , 0.147     , 0.02470629,\n",
       "       0.0352947 , 0.3       , 0.1029    , 0.1029    , 0.01210608,\n",
       "       0.3       , 0.050421  , 0.02470629, 0.3       , 0.0352947 ,\n",
       "       0.050421  , 0.07203   , 0.147     , 0.02470629, 0.02470629,\n",
       "       0.01210608, 0.02470629, 0.050421  , 0.050421  , 0.02470629,\n",
       "       0.07203   , 0.1029    , 0.050421  , 0.050421  , 0.050421  ,\n",
       "       0.07203   , 0.050421  , 0.0172944 , 0.02470629, 0.3       ,\n",
       "       0.1029    , 0.3       , 0.21      , 0.147     , 0.147     ,\n",
       "       0.147     , 0.21      , 0.0352947 , 0.01210608, 0.21      ,\n",
       "       0.21      , 0.3       , 0.050421  , 0.050421  , 0.1029    ,\n",
       "       0.050421  , 0.0352947 , 0.3       , 0.050421  , 0.01210608,\n",
       "       0.147     , 0.02470629, 0.01210608, 0.147     , 0.02470629,\n",
       "       0.21      , 0.0172944 , 0.050421  , 0.01210608, 0.02470629,\n",
       "       0.01210608, 0.147     , 0.02470629, 0.0352947 , 0.3       ,\n",
       "       0.1029    , 0.0352947 , 0.050421  , 0.21      , 0.3       ,\n",
       "       0.050421  , 0.02470629, 0.147     , 0.050421  , 0.147     ,\n",
       "       0.0352947 , 0.0352947 , 0.3       , 0.21      , 0.0172944 ,\n",
       "       0.147     , 0.0172944 , 0.02470629, 0.07203   , 0.02470629,\n",
       "       0.050421  , 0.147     , 0.02470629, 0.0352947 , 0.1029    ,\n",
       "       0.02470629, 0.0352947 , 0.147     , 0.1029    , 0.02470629,\n",
       "       0.07203   , 0.147     , 0.1029    , 0.3       , 0.21      ,\n",
       "       0.3       , 0.147     , 0.147     , 0.07203   , 0.050421  ,\n",
       "       0.0172944 , 0.3       , 0.1029    , 0.3       , 0.07203   ,\n",
       "       0.02470629, 0.02470629, 0.147     , 0.0352947 , 0.0352947 ,\n",
       "       0.3       , 0.07203   , 0.1029    , 0.050421  , 0.07203   ,\n",
       "       0.050421  , 0.050421  , 0.147     , 0.07203   , 0.01210608,\n",
       "       0.147     , 0.01210608, 0.07203   , 0.07203   , 0.147     ,\n",
       "       0.21      , 0.02470629, 0.050421  , 0.1029    , 0.07203   ,\n",
       "       0.07203   , 0.0172944 , 0.1029    , 0.3       , 0.01210608,\n",
       "       0.3       , 0.01210608, 0.21      , 0.21      , 0.21      ,\n",
       "       0.147     , 0.02470629, 0.02470629, 0.1029    , 0.050421  ,\n",
       "       0.050421  , 0.147     , 0.3       , 0.01210608, 0.07203   ,\n",
       "       0.21      , 0.21      , 0.050421  , 0.1029    , 0.0172944 ,\n",
       "       0.1029    , 0.07203   , 0.0352947 , 0.1029    , 0.1029    ,\n",
       "       0.0352947 , 0.07203   , 0.147     , 0.050421  , 0.147     ,\n",
       "       0.050421  , 0.02470629, 0.3       , 0.3       , 0.0172944 ,\n",
       "       0.050421  , 0.050421  , 0.0352947 , 0.0172944 , 0.0352947 ,\n",
       "       0.0172944 , 0.0352947 , 0.0352947 , 0.01210608, 0.0352947 ,\n",
       "       0.0352947 , 0.3       , 0.21      , 0.147     , 0.21      ,\n",
       "       0.147     , 0.0172944 , 0.0172944 , 0.01210608, 0.050421  ,\n",
       "       0.07203   , 0.147     , 0.0172944 , 0.01210608, 0.0172944 ,\n",
       "       0.02470629, 0.147     , 0.21      , 0.050421  , 0.07203   ,\n",
       "       0.02470629, 0.050421  , 0.147     , 0.147     , 0.01210608,\n",
       "       0.0172944 , 0.0172944 , 0.050421  , 0.21      , 0.0172944 ,\n",
       "       0.147     , 0.07203   , 0.0172944 , 0.0172944 , 0.050421  ,\n",
       "       0.3       , 0.3       , 0.21      , 0.0172944 , 0.1029    ,\n",
       "       0.1029    , 0.01210608, 0.0352947 , 0.01210608, 0.07203   ,\n",
       "       0.1029    , 0.07203   , 0.0352947 , 0.07203   , 0.21      ,\n",
       "       0.1029    , 0.02470629, 0.147     , 0.147     , 0.07203   ,\n",
       "       0.050421  , 0.02470629, 0.050421  , 0.1029    , 0.02470629,\n",
       "       0.0352947 , 0.02470629, 0.147     , 0.0352947 , 0.01210608,\n",
       "       0.02470629, 0.01210608, 0.01210608, 0.01210608, 0.21      ,\n",
       "       0.01210608, 0.050421  , 0.01210608, 0.07203   , 0.0352947 ,\n",
       "       0.050421  , 0.3       , 0.0352947 , 0.21      , 0.0172944 ,\n",
       "       0.21      , 0.02470629, 0.1029    , 0.02470629, 0.050421  ,\n",
       "       0.050421  , 0.02470629, 0.147     , 0.07203   , 0.3       ,\n",
       "       0.0352947 , 0.01210608, 0.02470629, 0.0352947 , 0.0172944 ,\n",
       "       0.0352947 , 0.1029    , 0.02470629, 0.02470629, 0.02470629,\n",
       "       0.07203   , 0.02470629, 0.0172944 , 0.02470629, 0.1029    ,\n",
       "       0.01210608, 0.0352947 , 0.3       , 0.0352947 , 0.02470629])"
      ]
     },
     "execution_count": 304,
     "metadata": {},
     "output_type": "execute_result"
    }
   ],
   "source": [
    "geom_values = []\n",
    "for i in range(0, len(geom)):\n",
    "    g = q**(int(geom[i]))*p\n",
    "    geom_values.append(g)\n",
    "    i+=1\n",
    "np.transpose(geom_values)"
   ]
  },
  {
   "cell_type": "markdown",
   "metadata": {},
   "source": [
    "# Теперь посмотрим на гистограммы нащих симулированных выборок:"
   ]
  },
  {
   "cell_type": "markdown",
   "metadata": {},
   "source": [
    "# Геометрическое"
   ]
  },
  {
   "cell_type": "code",
   "execution_count": 305,
   "metadata": {},
   "outputs": [
    {
     "data": {
      "text/plain": [
       "<matplotlib.legend.Legend at 0x179c66b26a0>"
      ]
     },
     "execution_count": 305,
     "metadata": {},
     "output_type": "execute_result"
    },
    {
     "data": {
      "image/png": "[encoded data removed]",
      "text/plain": [
       "<Figure size 432x288 with 1 Axes>"
      ]
     },
     "metadata": {
      "needs_background": "light"
     },
     "output_type": "display_data"
    }
   ],
   "source": [
    "import seaborn as sns\n",
    "\n",
    "sns.histplot(geom_values, stat = 'density',                   \n",
    "                 color = \"palevioletred\",\n",
    "                 label = \"Геометрическое Гистограмма\",\n",
    "                 bins = 10)                             \n",
    "plt.legend()"
   ]
  },
  {
   "cell_type": "markdown",
   "metadata": {},
   "source": [
    "# Пуассон"
   ]
  },
  {
   "cell_type": "code",
   "execution_count": 306,
   "metadata": {},
   "outputs": [
    {
     "data": {
      "text/plain": [
       "<matplotlib.legend.Legend at 0x179c6746f70>"
      ]
     },
     "execution_count": 306,
     "metadata": {},
     "output_type": "execute_result"
    },
    {
     "data": {
      "image/png": "[encoded data removed]",
      "text/plain": [
       "<Figure size 432x288 with 1 Axes>"
      ]
     },
     "metadata": {
      "needs_background": "light"
     },
     "output_type": "display_data"
    }
   ],
   "source": [
    "sns.histplot(pois_values, stat = 'density',                   \n",
    "                 color = \"palevioletred\",\n",
    "                 label = \"Пуассон Гистограмма\",\n",
    "                 bins = 10)                             \n",
    "plt.legend()\n",
    "\n"
   ]
  },
  {
   "cell_type": "markdown",
   "metadata": {},
   "source": [
    "# Биномиальное"
   ]
  },
  {
   "cell_type": "code",
   "execution_count": 307,
   "metadata": {},
   "outputs": [
    {
     "data": {
      "text/plain": [
       "<matplotlib.legend.Legend at 0x179c67bda60>"
      ]
     },
     "execution_count": 307,
     "metadata": {},
     "output_type": "execute_result"
    },
    {
     "data": {
      "image/png": "[encoded data removed]",
      "text/plain": [
       "<Figure size 432x288 with 1 Axes>"
      ]
     },
     "metadata": {
      "needs_background": "light"
     },
     "output_type": "display_data"
    }
   ],
   "source": [
    "sns.histplot(b_values, stat = 'density',                   \n",
    "                 color = \"palevioletred\",\n",
    "                 label = \"Биномиальное Гистограмма\",\n",
    "                 bins = 10)                             \n",
    "plt.legend()"
   ]
  },
  {
   "cell_type": "markdown",
   "metadata": {},
   "source": [
    "# Бернулли"
   ]
  },
  {
   "cell_type": "code",
   "execution_count": 308,
   "metadata": {},
   "outputs": [
    {
     "data": {
      "text/plain": [
       "<matplotlib.legend.Legend at 0x179c683a9d0>"
      ]
     },
     "execution_count": 308,
     "metadata": {},
     "output_type": "execute_result"
    },
    {
     "data": {
      "image/png": "[encoded data removed]",
      "text/plain": [
       "<Figure size 432x288 with 1 Axes>"
      ]
     },
     "metadata": {
      "needs_background": "light"
     },
     "output_type": "display_data"
    }
   ],
   "source": [
    "sns.histplot(a_values, stat = 'density',                   \n",
    "                 color = \"palevioletred\",\n",
    "                 label = \"Бернулли Гистограмма\",\n",
    "                 bins = 10)                             \n",
    "plt.legend()"
   ]
  },
  {
   "cell_type": "markdown",
   "metadata": {},
   "source": [
    "Разрывность графиков объясняется дискретностью описывающих их вероятностей дискретностью и малым количеством выборки и вариативности (можно заметить, что при соответственном увеличении растёт и плавность графика)"
   ]
  }
 ],
 "metadata": {
  "kernelspec": {
   "display_name": "Python 3",
   "language": "python",
   "name": "python3"
  },
  "language_info": {
   "codemirror_mode": {
    "name": "ipython",
    "version": 3
   },
   "file_extension": ".py",
   "mimetype": "text/x-python",
   "name": "python",
   "nbconvert_exporter": "python",
   "pygments_lexer": "ipython3",
   "version": "3.8.3"
  }
 },
 "nbformat": 4,
 "nbformat_minor": 2
}
