{
 "cells": [
  {
   "cell_type": "code",
   "execution_count": 160,
   "metadata": {},
   "outputs": [],
   "source": [
    "import sys\n",
    "import math\n",
    "import pandas as pd\n",
    "import numpy as np\n",
    "import scipy\n",
    "import matplotlib.pyplot as plt\n",
    "import seaborn\n",
    "from scipy.stats import t, chi2, f, norm, poisson, binom, uniform, multivariate_normal\n",
    "\n",
    "np.set_printoptions(suppress = True)"
   ]
  },
  {
   "cell_type": "markdown",
   "metadata": {},
   "source": [
    "# Урок 5. Выборочные Характеристики"
   ]
  },
  {
   "cell_type": "markdown",
   "metadata": {},
   "source": [
    "# Задание 1 "
   ]
  },
  {
   "cell_type": "code",
   "execution_count": 161,
   "metadata": {},
   "outputs": [
    {
     "data": {
      "text/plain": [
       "<matplotlib.legend.Legend at 0x235c28d2040>"
      ]
     },
     "execution_count": 161,
     "metadata": {},
     "output_type": "execute_result"
    },
    {
     "data": {
      "image/png": "[encoded data removed]",
      "text/plain": [
       "<Figure size 432x288 with 1 Axes>"
      ]
     },
     "metadata": {
      "needs_background": "light"
     },
     "output_type": "display_data"
    }
   ],
   "source": [
    "m = 5000                                                # количество независимых выборок равного объема\n",
    "n=5000\n",
    "df = 10                                        # из одного и того же распределения\n",
    "x_mean = np.empty(m)                                    # вектор, который будет содержать выборку\n",
    "                                                        # из реализаций выборочного среднего\n",
    "for i in range(0, m):\n",
    "    x_new = chi2.rvs(size = n, df = df)\n",
    "    x_mean[i] = np.mean(x_new**2)\n",
    "x_mean = np.sort(x_mean)                                # для удобства отсортируем реализации выборочных средних\n",
    "\n",
    "\n",
    "seaborn.histplot(x_mean, stat = 'density',              # гистограмма как график выборочной функции плотности\n",
    "                 color = \"purple\",\n",
    "                 label = \"Второй начальный выборочный момент\",\n",
    "                 bins = 15)                             # число столбиков в Гистограмме\n",
    "plt.legend()"
   ]
  },
  {
   "cell_type": "code",
   "execution_count": 162,
   "metadata": {},
   "outputs": [
    {
     "data": {
      "text/plain": [
       "<matplotlib.legend.Legend at 0x235bf908dc0>"
      ]
     },
     "execution_count": 162,
     "metadata": {},
     "output_type": "execute_result"
    },
    {
     "data": {
      "image/png": "[encoded data removed]",
      "text/plain": [
       "<Figure size 432x288 with 1 Axes>"
      ]
     },
     "metadata": {
      "needs_background": "light"
     },
     "output_type": "display_data"
    }
   ],
   "source": [
    "                                            # количество независимых выборок равного объема\n",
    "                                                        # из одного и того же распределения\n",
    "x_mean = np.empty(m)                                    # вектор, который будет содержать выборку\n",
    "                                                        # из реализаций выборочного среднего\n",
    "for i in range(0, m):\n",
    "    x_new = chi2.rvs(size = n, df = df)\n",
    "    x_mean[i] = np.var(x_new)\n",
    "x_mean = np.sort(x_mean)                                # для удобства отсортируем реализации выборочных средних\n",
    "\n",
    "\n",
    "seaborn.histplot(x_mean, stat = 'density',              # гистограмма как график выборочной функции плотности\n",
    "                 color = \"yellow\",\n",
    "                 label = \"Выборочная дисперсия\",\n",
    "                 bins = 15)                             # число столбиков в Гистограмме\n",
    "plt.legend()"
   ]
  },
  {
   "cell_type": "code",
   "execution_count": 163,
   "metadata": {},
   "outputs": [
    {
     "data": {
      "text/plain": [
       "<matplotlib.legend.Legend at 0x235c12a0ee0>"
      ]
     },
     "execution_count": 163,
     "metadata": {},
     "output_type": "execute_result"
    },
    {
     "data": {
      "image/png": "[encoded data removed]",
      "text/plain": [
       "<Figure size 432x288 with 1 Axes>"
      ]
     },
     "metadata": {
      "needs_background": "light"
     },
     "output_type": "display_data"
    }
   ],
   "source": [
    "                                            # количество независимых выборок равного объема\n",
    "                                                        # из одного и того же распределения\n",
    "x_mean = np.empty(m)                                    # вектор, который будет содержать выборку\n",
    "                                                        # из реализаций выборочного среднего\n",
    "for i in range(0, m):\n",
    "    x_new = chi2.rvs(size = n, df = df)\n",
    "    x_mean[i] = np.median(x_new)\n",
    "x_mean = np.sort(x_mean)                                # для удобства отсортируем реализации выборочных средних\n",
    "\n",
    "\n",
    "seaborn.histplot(x_mean, stat = 'density',              # гистограмма как график выборочной функции плотности\n",
    "                 color = \"darkorange\",\n",
    "                 label = \"Выборочная медиана\",\n",
    "                 bins = 15)                             # число столбиков в Гистограмме\n",
    "plt.legend()"
   ]
  },
  {
   "cell_type": "code",
   "execution_count": 164,
   "metadata": {},
   "outputs": [
    {
     "data": {
      "text/plain": [
       "<matplotlib.legend.Legend at 0x235c2aedf10>"
      ]
     },
     "execution_count": 164,
     "metadata": {},
     "output_type": "execute_result"
    },
    {
     "data": {
      "image/png": "[encoded data removed]",
      "text/plain": [
       "<Figure size 432x288 with 1 Axes>"
      ]
     },
     "metadata": {
      "needs_background": "light"
     },
     "output_type": "display_data"
    }
   ],
   "source": [
    "                                           # количество независимых выборок равного объем                                               # из одного и того же распределения\n",
    "x_mean = np.empty(m)                                    # вектор, который будет содержать выборку\n",
    "                                                        # из реализаций выборочного среднего\n",
    "for i in range(0, m):\n",
    "    x_new = chi2.rvs(size = n, df = df)\n",
    "    x_mean[i] = x_new[3]\n",
    "x_mean = np.sort(x_mean)                                # для удобства отсортируем реализации выборочных средних\n",
    "\n",
    "\n",
    "seaborn.histplot(x_mean, stat = 'density',              # гистограмма как график выборочной функции плотности\n",
    "                 color = \"lightblue\",\n",
    "                 label = \"Третья порядковая статистика\",\n",
    "                 bins = 15)                             # число столбиков в Гистограмме\n",
    "plt.legend()"
   ]
  },
  {
   "cell_type": "code",
   "execution_count": 165,
   "metadata": {},
   "outputs": [
    {
     "data": {
      "text/plain": [
       "<matplotlib.legend.Legend at 0x235c2c0beb0>"
      ]
     },
     "execution_count": 165,
     "metadata": {},
     "output_type": "execute_result"
    },
    {
     "data": {
      "image/png": "[encoded data removed]",
      "text/plain": [
       "<Figure size 432x288 with 1 Axes>"
      ]
     },
     "metadata": {
      "needs_background": "light"
     },
     "output_type": "display_data"
    }
   ],
   "source": [
    "                                           # количество независимых выборок равного объем                                               # из одного и того же распределения\n",
    "x_mean = np.empty(m)                                    # вектор, который будет содержать выборку\n",
    "                                                        # из реализаций выборочного среднего\n",
    "for i in range(0, m):\n",
    "    x_new = chi2.rvs(size = n, df = df)\n",
    "    x_mean[i] = np.quantile(x_new,0.8)\n",
    "x_mean = np.sort(x_mean)                                # для удобства отсортируем реализации выборочных средних\n",
    "\n",
    "\n",
    "seaborn.histplot(x_mean, stat = 'density',              # гистограмма как график выборочной функции плотности\n",
    "                 color = \"lightgreen\",\n",
    "                 label = \"Выборочная квантиль уровня 0.8\",\n",
    "                 bins = 15)                             # число столбиков в Гистограмме\n",
    "plt.legend()"
   ]
  },
  {
   "cell_type": "code",
   "execution_count": 166,
   "metadata": {},
   "outputs": [
    {
     "data": {
      "text/plain": [
       "<matplotlib.legend.Legend at 0x235c2c34a00>"
      ]
     },
     "execution_count": 166,
     "metadata": {},
     "output_type": "execute_result"
    },
    {
     "data": {
      "image/png": "[encoded data removed]",
      "text/plain": [
       "<Figure size 432x288 with 1 Axes>"
      ]
     },
     "metadata": {
      "needs_background": "light"
     },
     "output_type": "display_data"
    }
   ],
   "source": [
    "x_mean = np.empty(m)                                    # вектор, который будет содержать выборку\n",
    "                                                        # из реализаций выборочного среднего\n",
    "for i in range(0, m):\n",
    "    x_new = chi2.rvs(size = n, df = df)\n",
    "    x_mean[i] = np.mean(x_new <= 5)\n",
    "x_mean = np.sort(x_mean)                                # для удобства отсортируем реализации выборочных средних\n",
    "\n",
    "\n",
    "seaborn.histplot(x_mean, stat = 'density',              # гистограмма как график выборочной функции плотности\n",
    "                 color = \"red\",\n",
    "                 label = \"Выборочная функция распределения в точке 5\",\n",
    "                 bins = 15)                             # число столбиков в Гистограмме\n",
    "plt.legend()"
   ]
  },
  {
   "cell_type": "code",
   "execution_count": null,
   "metadata": {},
   "outputs": [],
   "source": []
  },
  {
   "cell_type": "markdown",
   "metadata": {},
   "source": [
    "# Задание 2 "
   ]
  },
  {
   "cell_type": "markdown",
   "metadata": {},
   "source": [
    "C помощью ЦПТ (для случаев, когда распределение близкое к нормальному) и по определению (в зависимости от степеней свободны), когда распределение близкое к хи-квадрат апроксимируем гистограмму графиком"
   ]
  },
  {
   "cell_type": "code",
   "execution_count": 167,
   "metadata": {},
   "outputs": [
    {
     "data": {
      "text/plain": [
       "<matplotlib.legend.Legend at 0x235c2a902e0>"
      ]
     },
     "execution_count": 167,
     "metadata": {},
     "output_type": "execute_result"
    },
    {
     "data": {
      "image/png": "[encoded data removed]",
      "text/plain": [
       "<Figure size 432x288 with 1 Axes>"
      ]
     },
     "metadata": {
      "needs_background": "light"
     },
     "output_type": "display_data"
    }
   ],
   "source": [
    "m = 5000                                                \n",
    "n=5000\n",
    "df = 10                                        \n",
    "x_mean = np.empty(m)                                    \n",
    "                                                        \n",
    "for i in range(0, m):\n",
    "    x_new = chi2.rvs(size = n, df = df)\n",
    "    x_mean[i] = np.mean(x_new**2)\n",
    "x_mean = np.sort(x_mean)                                \n",
    "f_x = norm.pdf(x_mean, loc = np.mean(x_mean),                       \n",
    "               scale = math.sqrt(np.var(x_mean)))          \n",
    "plt.xlabel('x')                                         \n",
    "plt.ylabel('f(x)')                                      \n",
    "plt.plot(x_mean, f_x, '--', markersize = 20,            \n",
    "  label = \"PDF\", color = \"Black\")\n",
    "\n",
    "seaborn.histplot(x_mean, stat = 'density',              \n",
    "                 color = \"purple\",\n",
    "                 label = \"Второй начальный выборочный момент\",\n",
    "                 bins = 15)                             \n",
    "plt.legend()"
   ]
  },
  {
   "cell_type": "code",
   "execution_count": 168,
   "metadata": {},
   "outputs": [
    {
     "data": {
      "text/plain": [
       "<matplotlib.legend.Legend at 0x235c29e2880>"
      ]
     },
     "execution_count": 168,
     "metadata": {},
     "output_type": "execute_result"
    },
    {
     "data": {
      "image/png": "[encoded data removed]",
      "text/plain": [
       "<Figure size 432x288 with 1 Axes>"
      ]
     },
     "metadata": {
      "needs_background": "light"
     },
     "output_type": "display_data"
    }
   ],
   "source": [
    "m = 5000                                                \n",
    "n=5000\n",
    "df = 10                                        \n",
    "x_mean = np.empty(m)                                    \n",
    "                                                        \n",
    "for i in range(0, m):\n",
    "    x_new = chi2.rvs(size = n, df = df)\n",
    "    x_mean[i] = np.var(x_new)\n",
    "x_mean = np.sort(x_mean)                                \n",
    "f_x = norm.pdf(x_mean, loc = np.mean(x_mean),                       \n",
    "               scale = math.sqrt(np.var(x_mean)))          \n",
    "plt.xlabel('x')                                         \n",
    "plt.ylabel('f(x)')                                      \n",
    "plt.plot(x_mean, f_x, '--', markersize = 20,            \n",
    "  label = \"PDF\", color = \"Black\")\n",
    "\n",
    "seaborn.histplot(x_mean, stat = 'density',              \n",
    "                 color = \"yellow\",\n",
    "                 label = \"Выборочная дисперсия\",\n",
    "                 bins = 15)                             \n",
    "plt.legend()"
   ]
  },
  {
   "cell_type": "code",
   "execution_count": 169,
   "metadata": {},
   "outputs": [
    {
     "data": {
      "text/plain": [
       "<matplotlib.legend.Legend at 0x235bf810ca0>"
      ]
     },
     "execution_count": 169,
     "metadata": {},
     "output_type": "execute_result"
    },
    {
     "data": {
      "image/png": "[encoded data removed]",
      "text/plain": [
       "<Figure size 432x288 with 1 Axes>"
      ]
     },
     "metadata": {
      "needs_background": "light"
     },
     "output_type": "display_data"
    }
   ],
   "source": [
    "m = 5000                                                \n",
    "n=5000\n",
    "df = 10                                        \n",
    "x_mean = np.empty(m)                                    \n",
    "                                                        \n",
    "for i in range(0, m):\n",
    "    x_new = chi2.rvs(size = n, df = df)\n",
    "    x_mean[i] = np.median(x_new)\n",
    "x_mean = np.sort(x_mean)                                \n",
    "f_x = norm.pdf(x_mean, loc = np.mean(x_mean),                       \n",
    "               scale = math.sqrt(np.var(x_mean)))          \n",
    "plt.xlabel('x')                                         \n",
    "plt.ylabel('f(x)')                                      \n",
    "plt.plot(x_mean, f_x, '--', markersize = 20,            \n",
    "  label = \"PDF\", color = \"Black\")\n",
    "\n",
    "seaborn.histplot(x_mean, stat = 'density',              \n",
    "                 color = \"orange\",\n",
    "                 label = \"Выборочная медиана\",\n",
    "                 bins = 15)                             \n",
    "plt.legend()"
   ]
  },
  {
   "cell_type": "code",
   "execution_count": 170,
   "metadata": {},
   "outputs": [
    {
     "data": {
      "text/plain": [
       "<matplotlib.legend.Legend at 0x235c2ec3ee0>"
      ]
     },
     "execution_count": 170,
     "metadata": {},
     "output_type": "execute_result"
    },
    {
     "data": {
      "image/png": "[encoded data removed]",
      "text/plain": [
       "<Figure size 432x288 with 1 Axes>"
      ]
     },
     "metadata": {
      "needs_background": "light"
     },
     "output_type": "display_data"
    }
   ],
   "source": [
    "                                                                                          \n",
    "x_mean = np.empty(m)                                    \n",
    "                                                        \n",
    "for i in range(0, m):\n",
    "    x_new = chi2.rvs(size = n, df = df)\n",
    "    x_mean[i] = x_new[3]\n",
    "x_mean = np.sort(x_mean)                                \n",
    "f_x = norm.pdf(x_mean, loc = np.mean(x_mean),                        \n",
    "               scale = math.sqrt(np.var(x_mean)))          \n",
    "plt.xlabel('x')                                         \n",
    "plt.ylabel('f(x)')                                      \n",
    "plt.plot(x_mean, f_x, '--', markersize = 20,            \n",
    "  label = \"PDF\", color = \"Black\")\n",
    "\n",
    "\n",
    "seaborn.histplot(x_mean, stat = 'density',              \n",
    "                 color = \"lightblue\",\n",
    "                 label = \"Третья порядковая статистика\",\n",
    "                 bins = 15)                             \n",
    "plt.legend()"
   ]
  },
  {
   "cell_type": "code",
   "execution_count": 171,
   "metadata": {},
   "outputs": [
    {
     "data": {
      "text/plain": [
       "<matplotlib.legend.Legend at 0x235c2f48f40>"
      ]
     },
     "execution_count": 171,
     "metadata": {},
     "output_type": "execute_result"
    },
    {
     "data": {
      "image/png": "[encoded data removed]",
      "text/plain": [
       "<Figure size 432x288 with 1 Axes>"
      ]
     },
     "metadata": {
      "needs_background": "light"
     },
     "output_type": "display_data"
    }
   ],
   "source": [
    "m = 5000                                                \n",
    "n=5000\n",
    "df = 10                                        \n",
    "x_mean = np.empty(m)                                    \n",
    "                                                        \n",
    "for i in range(0, m):\n",
    "    x_new = chi2.rvs(size = n, df = df)\n",
    "    x_mean[i] = np.quantile(x_new,0.8)\n",
    "x_mean = np.sort(x_mean)                                \n",
    "f_x = norm.pdf(x_mean, loc = np.mean(x_mean),                       \n",
    "               scale = math.sqrt(np.var(x_mean)))          \n",
    "plt.xlabel('x')                                         \n",
    "plt.ylabel('f(x)')                                      \n",
    "plt.plot(x_mean, f_x, '--', markersize = 20,            \n",
    "  label = \"PDF\", color = \"Black\")\n",
    "\n",
    "seaborn.histplot(x_mean, stat = 'density',              \n",
    "                 color = \"lightgreen\",\n",
    "                 label = \"Выборочная квантиль уровня 0.8\",\n",
    "                 bins = 15)                             \n",
    "plt.legend()"
   ]
  },
  {
   "cell_type": "code",
   "execution_count": 172,
   "metadata": {},
   "outputs": [
    {
     "data": {
      "text/plain": [
       "<matplotlib.legend.Legend at 0x235c2fd0eb0>"
      ]
     },
     "execution_count": 172,
     "metadata": {},
     "output_type": "execute_result"
    },
    {
     "data": {
      "image/png": "[encoded data removed]",
      "text/plain": [
       "<Figure size 432x288 with 1 Axes>"
      ]
     },
     "metadata": {
      "needs_background": "light"
     },
     "output_type": "display_data"
    }
   ],
   "source": [
    "x_mean = np.empty(m)                                    \n",
    "                                                        \n",
    "for i in range(0, m):\n",
    "    x_new = chi2.rvs(size = n, df = df)\n",
    "    x_mean[i] = np.mean(x_new <= 5)\n",
    "x_mean = np.sort(x_mean)                                \n",
    "f_x = norm.pdf(x_mean, loc = np.mean(x_mean),                        \n",
    "               scale = math.sqrt(np.var(x_mean)))          \n",
    "plt.xlabel('x')                                         \n",
    "plt.ylabel('f(x)')                                     \n",
    "plt.plot(x_mean, f_x, '--', markersize = 20,            \n",
    "  label = \"PDF\", color = \"Black\")\n",
    "\n",
    "seaborn.histplot(x_mean, stat = 'density',              \n",
    "                 color = \"red\",\n",
    "                 label = \"Выборочная функция распределения в точке 5\",\n",
    "                 bins = 15)                             \n",
    "plt.legend()"
   ]
  },
  {
   "cell_type": "markdown",
   "metadata": {},
   "source": [
    "\n",
    "# Задание 3"
   ]
  },
  {
   "cell_type": "code",
   "execution_count": 173,
   "metadata": {},
   "outputs": [],
   "source": [
    "n = 5000\n",
    "x_1 = norm.rvs(size = n, loc = 0, scale = 1)\n",
    "x_2 = norm.rvs(size = n, loc = 0, scale = 1)\n",
    "x_3 = norm.rvs(size = n, loc = 0, scale = 1)\n",
    "x_3\n",
    "\n",
    "x_12 = x_1+x_2\n",
    "x_23 = x_2+x_3"
   ]
  },
  {
   "cell_type": "code",
   "execution_count": 174,
   "metadata": {},
   "outputs": [
    {
     "data": {
      "text/plain": [
       "array([[2.09056808, 1.06747105],\n",
       "       [1.06747105, 2.05598628]])"
      ]
     },
     "execution_count": 174,
     "metadata": {},
     "output_type": "execute_result"
    }
   ],
   "source": [
    "np.cov(x_12, x_23)"
   ]
  },
  {
   "cell_type": "code",
   "execution_count": 175,
   "metadata": {},
   "outputs": [
    {
     "data": {
      "text/plain": [
       "array([[1.        , 0.51488927],\n",
       "       [0.51488927, 1.        ]])"
      ]
     },
     "execution_count": 175,
     "metadata": {},
     "output_type": "execute_result"
    }
   ],
   "source": [
    "np.corrcoef(x_12, x_23)"
   ]
  },
  {
   "cell_type": "code",
   "execution_count": 176,
   "metadata": {},
   "outputs": [
    {
     "data": {
      "text/plain": [
       "array([-0.43522268,  4.43008603, -6.98629089, ...,  1.27320158,\n",
       "        0.54701582, -0.78530823])"
      ]
     },
     "execution_count": 176,
     "metadata": {},
     "output_type": "execute_result"
    }
   ],
   "source": [
    "a = np.correlate(x_12,x_23, 'full')\n",
    "a"
   ]
  },
  {
   "cell_type": "code",
   "execution_count": 177,
   "metadata": {},
   "outputs": [
    {
     "data": {
      "text/plain": [
       "<matplotlib.legend.Legend at 0x235c2ff41c0>"
      ]
     },
     "execution_count": 177,
     "metadata": {},
     "output_type": "execute_result"
    },
    {
     "data": {
      "image/png": "[encoded data removed]",
      "text/plain": [
       "<Figure size 432x288 with 1 Axes>"
      ]
     },
     "metadata": {
      "needs_background": "light"
     },
     "output_type": "display_data"
    }
   ],
   "source": [
    "\n",
    "\n",
    "\n",
    "seaborn.histplot(a, stat = 'density',              \n",
    "                 color = \"red\",\n",
    "                 label = \"Выборочная корелляция\",\n",
    "                 bins = 150)                             \n",
    "plt.legend()"
   ]
  },
  {
   "cell_type": "markdown",
   "metadata": {},
   "source": [
    "# Задание 4"
   ]
  },
  {
   "cell_type": "markdown",
   "metadata": {},
   "source": [
    "\n",
    "# Выборочное среднее"
   ]
  },
  {
   "cell_type": "code",
   "execution_count": 178,
   "metadata": {},
   "outputs": [
    {
     "data": {
      "text/plain": [
       "-0.0037168212688059882"
      ]
     },
     "execution_count": 178,
     "metadata": {},
     "output_type": "execute_result"
    }
   ],
   "source": [
    "y = norm.rvs(size = n, loc = 0, scale = 1)\n",
    "h = 0\n",
    "for i in range(0, len(y)):\n",
    "    h += y[i]\n",
    "    i+=1\n",
    "y_srednee = h/len(y)\n",
    "y_srednee"
   ]
  },
  {
   "cell_type": "markdown",
   "metadata": {},
   "source": [
    "# Выборочная дисперсия"
   ]
  },
  {
   "cell_type": "code",
   "execution_count": 179,
   "metadata": {},
   "outputs": [
    {
     "data": {
      "text/plain": [
       "0.9742258417774927"
      ]
     },
     "execution_count": 179,
     "metadata": {},
     "output_type": "execute_result"
    }
   ],
   "source": [
    "j = 0\n",
    "for i in range(0,len(y)):\n",
    "    j += (y[i]-y_srednee)**2\n",
    "    i+=1\n",
    "var = j/len(y)\n",
    "var"
   ]
  },
  {
   "cell_type": "markdown",
   "metadata": {},
   "source": [
    "# Выборочная медиана"
   ]
  },
  {
   "cell_type": "code",
   "execution_count": 180,
   "metadata": {},
   "outputs": [
    {
     "data": {
      "text/plain": [
       "0.0052331646033349334"
      ]
     },
     "execution_count": 180,
     "metadata": {},
     "output_type": "execute_result"
    }
   ],
   "source": [
    "y_sorted = np.sort(y)\n",
    "y_sorted\n",
    "u = len(y)/2\n",
    "Median = y_sorted[int(u)]\n",
    "Median"
   ]
  },
  {
   "cell_type": "markdown",
   "metadata": {},
   "source": [
    "# Порядковая статистика"
   ]
  },
  {
   "cell_type": "code",
   "execution_count": 181,
   "metadata": {},
   "outputs": [
    {
     "name": "stdout",
     "output_type": "stream",
     "text": [
      "24\n"
     ]
    },
    {
     "data": {
      "text/plain": [
       "-2.5394931309614637"
      ]
     },
     "execution_count": 181,
     "metadata": {},
     "output_type": "execute_result"
    }
   ],
   "source": [
    "nomer = int(input())\n",
    "statistics = y_sorted[nomer]\n",
    "statistics"
   ]
  },
  {
   "cell_type": "markdown",
   "metadata": {},
   "source": [
    "# Выборочная ковариационная матрица (для двух массивов)"
   ]
  },
  {
   "cell_type": "code",
   "execution_count": 182,
   "metadata": {},
   "outputs": [
    {
     "data": {
      "text/plain": [
       "[(0.9742258417774927, 8.187114593656375e-06),\n",
       " (8.187114593656375e-06, 0.975676344736972)]"
      ]
     },
     "execution_count": 182,
     "metadata": {},
     "output_type": "execute_result"
    }
   ],
   "source": [
    "z = norm.rvs(size = n, loc = 0, scale = 1)\n",
    "\n",
    "h = 0\n",
    "for i in range(0, len(z)):\n",
    "    h += z[i]\n",
    "    i+=1\n",
    "z_srednee = h/len(z)\n",
    "\n",
    "j = 0\n",
    "for i in range(0,len(z)):\n",
    "    j += (z[i]-z_srednee)**2\n",
    "    i+=1\n",
    "var_Z = j/len(z)\n",
    "\n",
    "f = 0\n",
    "for i in range (0,len(z)):\n",
    "    f += (y[i]-y_srednee)*(z[i]-z_srednee)\n",
    "    i+=1\n",
    "cov_y_z = f/len(z)\n",
    "\n",
    "cov_matr = [(var, cov_y_z), (cov_y_z,var_Z)]\n",
    "cov_matr"
   ]
  },
  {
   "cell_type": "markdown",
   "metadata": {},
   "source": [
    "# Задание 5."
   ]
  },
  {
   "cell_type": "code",
   "execution_count": 183,
   "metadata": {},
   "outputs": [],
   "source": [
    "x_n_1 = norm.rvs(size = n, loc = 0, scale = 1)\n",
    "x_n_2 = norm.rvs(size = n, loc = 0, scale = 1)\n",
    "x_chi_1 = chi2.rvs(size = n, df = 2)\n",
    "x_new_12 = x_n_1**2+x_n_2**2"
   ]
  },
  {
   "cell_type": "markdown",
   "metadata": {},
   "source": [
    "# Сравним средние"
   ]
  },
  {
   "cell_type": "code",
   "execution_count": 184,
   "metadata": {},
   "outputs": [
    {
     "name": "stdout",
     "output_type": "stream",
     "text": [
      "среднее для Хи-квадрат: 1.9719655719337534\n"
     ]
    }
   ],
   "source": [
    "h = 0\n",
    "for i in range(0, len(x_chi_1)):\n",
    "    h += x_chi_1[i]\n",
    "    i+=1\n",
    "x_chi_1_srednee = h/len(x_chi_1)\n",
    "print ('среднее для Хи-квадрат:', x_chi_1_srednee)"
   ]
  },
  {
   "cell_type": "code",
   "execution_count": 185,
   "metadata": {},
   "outputs": [
    {
     "name": "stdout",
     "output_type": "stream",
     "text": [
      "среднее для Нового распределения: 1.9807787179976115\n"
     ]
    }
   ],
   "source": [
    "h = 0\n",
    "for i in range(0, len(x_new_12)):\n",
    "    h += x_new_12[i]\n",
    "    i+=1\n",
    "x_new_12_srednee = h/len(x_new_12)\n",
    "print ('среднее для Нового распределения:', x_new_12_srednee)"
   ]
  },
  {
   "cell_type": "markdown",
   "metadata": {},
   "source": [
    "# Сравним дисперсии"
   ]
  },
  {
   "cell_type": "code",
   "execution_count": 186,
   "metadata": {},
   "outputs": [
    {
     "name": "stdout",
     "output_type": "stream",
     "text": [
      "Дисперсия Хи-квадрат 4.0285653545359095\n"
     ]
    }
   ],
   "source": [
    "j = 0\n",
    "for i in range(0,len(x_chi_1)):\n",
    "    j += (x_chi_1[i]-x_chi_1_srednee)**2\n",
    "    i+=1\n",
    "var_x_chi_1 = j/len(x_chi_1)\n",
    "print('Дисперсия Хи-квадрат', var_x_chi_1 )"
   ]
  },
  {
   "cell_type": "code",
   "execution_count": 187,
   "metadata": {},
   "outputs": [
    {
     "name": "stdout",
     "output_type": "stream",
     "text": [
      "Дисперсия Нового распределения 3.8794526869978343\n"
     ]
    }
   ],
   "source": [
    "j = 0\n",
    "for i in range(0,len(x_new_12)):\n",
    "    j += (x_new_12[i]-x_new_12_srednee)**2\n",
    "    i+=1\n",
    "var_x_new_12 = j/len(x_new_12)\n",
    "print('Дисперсия Нового распределения', var_x_new_12 )"
   ]
  },
  {
   "cell_type": "markdown",
   "metadata": {},
   "source": [
    "# Сравним медианы"
   ]
  },
  {
   "cell_type": "code",
   "execution_count": 188,
   "metadata": {},
   "outputs": [
    {
     "name": "stdout",
     "output_type": "stream",
     "text": [
      "Медиана для Хи-квадрат 1.3612701895390664\n"
     ]
    }
   ],
   "source": [
    "x_chi_1_sorted = np.sort(x_chi_1)\n",
    "u_chi = len(x_chi_1)/2\n",
    "Median_x_chi_1 = x_chi_1_sorted[int(u_chi)]\n",
    "print('Медиана для Хи-квадрат',Median_x_chi_1)"
   ]
  },
  {
   "cell_type": "code",
   "execution_count": 189,
   "metadata": {},
   "outputs": [
    {
     "name": "stdout",
     "output_type": "stream",
     "text": [
      "Медиана для Нового распределния 1.3730804578300668\n"
     ]
    }
   ],
   "source": [
    "x_new_12_sorted = np.sort(x_new_12)\n",
    "u_new_12 = len(x_new_12)/2\n",
    "Median_x_new_12 = x_new_12_sorted[int(u_new_12)]\n",
    "print('Медиана для Нового распределния',Median_x_new_12)"
   ]
  },
  {
   "cell_type": "markdown",
   "metadata": {},
   "source": [
    "# Посмотрим на графики распределений"
   ]
  },
  {
   "cell_type": "code",
   "execution_count": 190,
   "metadata": {},
   "outputs": [
    {
     "data": {
      "text/plain": [
       "<matplotlib.legend.Legend at 0x235c13d58e0>"
      ]
     },
     "execution_count": 190,
     "metadata": {},
     "output_type": "execute_result"
    },
    {
     "data": {
      "image/png": "[encoded data removed]",
      "text/plain": [
       "<Figure size 432x288 with 1 Axes>"
      ]
     },
     "metadata": {
      "needs_background": "light"
     },
     "output_type": "display_data"
    }
   ],
   "source": [
    "seaborn.histplot(x_chi_1, stat = 'density',                   \n",
    "                 color = \"palevioletred\",\n",
    "                 label = \"Хи-квадрат c 2 степенями свободы Гистограмма\",\n",
    "                 bins = 100)                             \n",
    "plt.legend()\n"
   ]
  },
  {
   "cell_type": "code",
   "execution_count": 191,
   "metadata": {},
   "outputs": [
    {
     "data": {
      "text/plain": [
       "<matplotlib.legend.Legend at 0x235c33855e0>"
      ]
     },
     "execution_count": 191,
     "metadata": {},
     "output_type": "execute_result"
    },
    {
     "data": {
      "image/png": "[encoded data removed]",
      "text/plain": [
       "<Figure size 432x288 with 1 Axes>"
      ]
     },
     "metadata": {
      "needs_background": "light"
     },
     "output_type": "display_data"
    }
   ],
   "source": [
    "seaborn.histplot(x_new_12, stat = 'density',                   \n",
    "                 color = \"Green\",\n",
    "                 label = \"Новое распределение Гистограмма\",\n",
    "                 bins = 100)                             \n",
    "plt.legend()"
   ]
  },
  {
   "cell_type": "markdown",
   "metadata": {},
   "source": [
    "# Вывод: полученное нами распределение как сумма двух стандартных нормальных эмпирически апроксимирует распределение хи-квадрат, то есть исходя из полученных нами результатов можно сделать вывод, что гипотеза о совпадении распределений выполняется"
   ]
  }
 ],
 "metadata": {
  "kernelspec": {
   "display_name": "Python 3",
   "language": "python",
   "name": "python3"
  },
  "language_info": {
   "codemirror_mode": {
    "name": "ipython",
    "version": 3
   },
   "file_extension": ".py",
   "mimetype": "text/x-python",
   "name": "python",
   "nbconvert_exporter": "python",
   "pygments_lexer": "ipython3",
   "version": "3.8.3"
  }
 },
 "nbformat": 4,
 "nbformat_minor": 2
}
